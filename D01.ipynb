{
 "cells": [
  {
   "cell_type": "markdown",
   "id": "e7272f08",
   "metadata": {},
   "source": [
    "# 1) How many samples and features does each file have?\n"
   ]
  },
  {
   "cell_type": "code",
   "execution_count": 2,
   "id": "8886da9a",
   "metadata": {},
   "outputs": [],
   "source": [
    "import pandas as pd\n",
    "import numpy as np\n",
    "import matplotlib.pyplot as plt\n",
    "from datetime import datetime"
   ]
  },
  {
   "cell_type": "code",
   "execution_count": 3,
   "id": "5491c25d",
   "metadata": {},
   "outputs": [
    {
     "name": "stdout",
     "output_type": "stream",
     "text": [
      "listings.csv: \t\t rows 9582 \t features: 67\n",
      "----------------------------------------------------------------\n",
      "reviews1.csv: \t\t rows 100000 \t features: 6\n",
      "reviews2.csv: \t\t rows 100000 \t features: 6\n",
      "reviews3.csv: \t\t rows 100000 \t features: 6\n",
      "reviews4.csv: \t\t rows 106607 \t features: 6\n",
      "----------------------------------------------------------------\n",
      "concatenated reviews: \t rows 406607 \t features: 6\n"
     ]
    }
   ],
   "source": [
    "lis = pd.read_csv('listings.csv')\n",
    "print(f'listings.csv: \\t\\t rows {lis.shape[0]} \\t features: {lis.shape[1]}')\n",
    "print('-'*64)\n",
    "\n",
    "ds1 = pd.read_csv('reviews1.csv')\n",
    "print(f'reviews1.csv: \\t\\t rows {ds1.shape[0]} \\t features: {ds1.shape[1]}')\n",
    "ds2 = pd.read_csv('reviews2.csv')\n",
    "print(f'reviews2.csv: \\t\\t rows {ds2.shape[0]} \\t features: {ds2.shape[1]}')\n",
    "ds3 = pd.read_csv('reviews3.csv')\n",
    "print(f'reviews3.csv: \\t\\t rows {ds3.shape[0]} \\t features: {ds3.shape[1]}')\n",
    "ds4 = pd.read_csv('reviews4.csv')\n",
    "print(f'reviews4.csv: \\t\\t rows {ds4.shape[0]} \\t features: {ds4.shape[1]}')\n",
    "print('-'*64)\n",
    "\n",
    "rate = pd.concat([ds1, ds2, ds3, ds4])\n",
    "print(f'concatenated reviews: \\t rows {rate.shape[0]} \\t features: {rate.shape[1]}')\n"
   ]
  },
  {
   "cell_type": "markdown",
   "id": "833de915",
   "metadata": {},
   "source": [
    "# 2) What are the types of your features?"
   ]
  },
  {
   "cell_type": "markdown",
   "id": "aad7f6bd",
   "metadata": {},
   "source": [
    " We can answer this question by creating directories that map the name of each column to the data type of that column for the listings and the rarings, respectively. This allows for convienient checks for the type of any column which might be useful later on."
   ]
  },
  {
   "cell_type": "markdown",
   "id": "d22ea752",
   "metadata": {},
   "source": [
    "Beginning with the <b>listings<b>:"
   ]
  },
  {
   "cell_type": "code",
   "execution_count": 4,
   "id": "e357adb8",
   "metadata": {},
   "outputs": [
    {
     "data": {
      "text/plain": [
       "{'id': numpy.int64,\n",
       " 'listing_url': str,\n",
       " 'scrape_id': numpy.int64,\n",
       " 'last_scraped': str,\n",
       " 'name': str,\n",
       " 'description': str,\n",
       " 'neighborhood_overview': str,\n",
       " 'picture_url': str,\n",
       " 'host_id': numpy.int64,\n",
       " 'host_url': str,\n",
       " 'host_name': str,\n",
       " 'host_since': str,\n",
       " 'host_location': str,\n",
       " 'host_about': str,\n",
       " 'host_response_time': float,\n",
       " 'host_response_rate': float,\n",
       " 'host_acceptance_rate': float,\n",
       " 'host_is_superhost': str,\n",
       " 'host_thumbnail_url': str,\n",
       " 'host_picture_url': str,\n",
       " 'host_neighbourhood': str,\n",
       " 'host_listings_count': numpy.float64,\n",
       " 'host_total_listings_count': numpy.float64,\n",
       " 'host_verifications': str,\n",
       " 'host_has_profile_pic': str,\n",
       " 'host_identity_verified': str,\n",
       " 'neighbourhood': str,\n",
       " 'neighbourhood_cleansed': str,\n",
       " 'neighbourhood_group_cleansed': numpy.float64,\n",
       " 'latitude': numpy.float64,\n",
       " 'longitude': numpy.float64,\n",
       " 'property_type': str,\n",
       " 'room_type': str,\n",
       " 'accommodates': numpy.int64,\n",
       " 'bathrooms': numpy.float64,\n",
       " 'bathrooms_text': str,\n",
       " 'bedrooms': numpy.float64,\n",
       " 'beds': numpy.float64,\n",
       " 'amenities': str,\n",
       " 'price': str,\n",
       " 'minimum_nights': numpy.int64,\n",
       " 'maximum_nights': numpy.int64,\n",
       " 'minimum_minimum_nights': numpy.int64,\n",
       " 'maximum_minimum_nights': numpy.int64,\n",
       " 'minimum_maximum_nights': numpy.int64,\n",
       " 'maximum_maximum_nights': numpy.int64,\n",
       " 'minimum_nights_avg_ntm': numpy.float64,\n",
       " 'maximum_nights_avg_ntm': numpy.float64,\n",
       " 'calendar_updated': numpy.float64,\n",
       " 'has_availability': str,\n",
       " 'availability_30': numpy.int64,\n",
       " 'availability_60': numpy.int64,\n",
       " 'availability_90': numpy.int64,\n",
       " 'availability_365': numpy.int64,\n",
       " 'calendar_last_scraped': str,\n",
       " 'number_of_reviews': numpy.int64,\n",
       " 'number_of_reviews_ltm': numpy.int64,\n",
       " 'number_of_reviews_l30d': numpy.int64,\n",
       " 'first_review': str,\n",
       " 'last_review': str,\n",
       " 'license': str,\n",
       " 'instant_bookable': str,\n",
       " 'calculated_host_listings_count': numpy.int64,\n",
       " 'calculated_host_listings_count_entire_homes': numpy.int64,\n",
       " 'calculated_host_listings_count_private_rooms': numpy.int64,\n",
       " 'calculated_host_listings_count_shared_rooms': numpy.int64,\n",
       " 'reviews_per_month': numpy.float64}"
      ]
     },
     "execution_count": 4,
     "metadata": {},
     "output_type": "execute_result"
    }
   ],
   "source": [
    "lis_types = {y:type(x) for x,y in zip(lis.iloc[0,:], lis.columns)}\n",
    "lis_types"
   ]
  },
  {
   "cell_type": "markdown",
   "id": "6214578c",
   "metadata": {},
   "source": [
    "This way we're creating a dictionary for the <b>ratings<b> in a similar manner:"
   ]
  },
  {
   "cell_type": "code",
   "execution_count": 6,
   "id": "d45966f4",
   "metadata": {},
   "outputs": [
    {
     "data": {
      "text/plain": [
       "{'listing_id': numpy.int64,\n",
       " 'id': numpy.int64,\n",
       " 'date': str,\n",
       " 'reviewer_id': numpy.int64,\n",
       " 'reviewer_name': str,\n",
       " 'comments': str}"
      ]
     },
     "execution_count": 6,
     "metadata": {},
     "output_type": "execute_result"
    }
   ],
   "source": [
    "rate_types = {y:type(x) for x,y in zip(rate.iloc[0,:], rate.columns)}\n",
    "rate_types"
   ]
  },
  {
   "cell_type": "markdown",
   "id": "105ce135",
   "metadata": {},
   "source": [
    "# 3) Are there any missing values? If yes, how many columns and how many rows are affected?"
   ]
  },
  {
   "cell_type": "markdown",
   "id": "cbcf09d5",
   "metadata": {},
   "source": [
    "Considering that a row or a column is affected by missing values whenever a NaN value is present in it, we can begin by looking for rows that have at least one NaN value in them for the listing and the ratings."
   ]
  },
  {
   "cell_type": "code",
   "execution_count": 7,
   "id": "597397b4",
   "metadata": {},
   "outputs": [
    {
     "name": "stdout",
     "output_type": "stream",
     "text": [
      "listings.csv affected rows: 9582\n"
     ]
    }
   ],
   "source": [
    "print(f'listings.csv affected rows: {(lis.isna().sum(axis=1) > 0).sum()}')"
   ]
  },
  {
   "cell_type": "code",
   "execution_count": 8,
   "id": "857c095a",
   "metadata": {},
   "outputs": [
    {
     "name": "stdout",
     "output_type": "stream",
     "text": [
      "Ratings affected rows: 407\n"
     ]
    }
   ],
   "source": [
    "print(f'Ratings affected rows: {(rate.isna().sum(axis=1) > 0).sum()}')"
   ]
  },
  {
   "cell_type": "markdown",
   "id": "c13f204e",
   "metadata": {},
   "source": [
    "Similarly, we can apply the same logic for the columns of each file:"
   ]
  },
  {
   "cell_type": "code",
   "execution_count": 9,
   "id": "cf7eeedf",
   "metadata": {},
   "outputs": [
    {
     "name": "stdout",
     "output_type": "stream",
     "text": [
      "listings.csv affected columns: 29\n"
     ]
    }
   ],
   "source": [
    "print(f'listings.csv affected columns: {(lis.isna().sum(axis=0) > 0).sum()}')"
   ]
  },
  {
   "cell_type": "code",
   "execution_count": 10,
   "id": "d560f6bf",
   "metadata": {},
   "outputs": [
    {
     "name": "stdout",
     "output_type": "stream",
     "text": [
      "listings.csv affected columns:1\n"
     ]
    }
   ],
   "source": [
    "print(f'listings.csv affected columns:{(rate.isna().sum(axis=0) > 0).sum()}')"
   ]
  },
  {
   "cell_type": "markdown",
   "id": "a2fcba64",
   "metadata": {},
   "source": [
    "We can also check for invalid rows, i.e. rows with all features missing:"
   ]
  },
  {
   "cell_type": "code",
   "execution_count": 11,
   "id": "240eefe4",
   "metadata": {},
   "outputs": [
    {
     "name": "stdout",
     "output_type": "stream",
     "text": [
      "listing.csv rows with all features missing: 0\n"
     ]
    }
   ],
   "source": [
    "print(f'listing.csv rows with all features missing: {(lis.isna().sum(axis=1) == lis.shape[1]).sum()}')"
   ]
  },
  {
   "cell_type": "code",
   "execution_count": 12,
   "id": "0f708798",
   "metadata": {},
   "outputs": [
    {
     "name": "stdout",
     "output_type": "stream",
     "text": [
      "ratings rows with all features missing: 0\n"
     ]
    }
   ],
   "source": [
    "print(f'ratings rows with all features missing: {(rate.isna().sum(axis=1) == rate.shape[1]).sum()}')"
   ]
  },
  {
   "cell_type": "markdown",
   "id": "7626a20f",
   "metadata": {},
   "source": [
    "When it comes to the columns of each dataframe it might be proven useful to check for the number of nan values as we can obtain a clear picture of how much each column is affected by missing values."
   ]
  },
  {
   "cell_type": "markdown",
   "id": "893b4e18",
   "metadata": {},
   "source": [
    "Beginning with the <b>listings<b>:"
   ]
  },
  {
   "cell_type": "code",
   "execution_count": 13,
   "id": "447c87f6",
   "metadata": {},
   "outputs": [
    {
     "name": "stdout",
     "output_type": "stream",
     "text": [
      "-----------listings.csv column nan values-----------\n"
     ]
    },
    {
     "data": {
      "text/plain": [
       "id                                                 0\n",
       "listing_url                                        0\n",
       "scrape_id                                          0\n",
       "last_scraped                                       0\n",
       "name                                               3\n",
       "description                                       96\n",
       "neighborhood_overview                           2960\n",
       "picture_url                                        0\n",
       "host_id                                            0\n",
       "host_url                                           0\n",
       "host_name                                          3\n",
       "host_since                                         3\n",
       "host_location                                     18\n",
       "host_about                                      4116\n",
       "host_response_time                              2244\n",
       "host_response_rate                              2244\n",
       "host_acceptance_rate                            2304\n",
       "host_is_superhost                                  3\n",
       "host_thumbnail_url                                 3\n",
       "host_picture_url                                   3\n",
       "host_neighbourhood                              2468\n",
       "host_listings_count                                3\n",
       "host_total_listings_count                          3\n",
       "host_verifications                                 0\n",
       "host_has_profile_pic                               3\n",
       "host_identity_verified                             3\n",
       "neighbourhood                                   2960\n",
       "neighbourhood_cleansed                             0\n",
       "neighbourhood_group_cleansed                    9582\n",
       "latitude                                           0\n",
       "longitude                                          0\n",
       "property_type                                      0\n",
       "room_type                                          0\n",
       "accommodates                                       0\n",
       "bathrooms                                       9582\n",
       "bathrooms_text                                    10\n",
       "bedrooms                                         813\n",
       "beds                                              68\n",
       "amenities                                          0\n",
       "price                                              0\n",
       "minimum_nights                                     0\n",
       "maximum_nights                                     0\n",
       "minimum_minimum_nights                             0\n",
       "maximum_minimum_nights                             0\n",
       "minimum_maximum_nights                             0\n",
       "maximum_maximum_nights                             0\n",
       "minimum_nights_avg_ntm                             0\n",
       "maximum_nights_avg_ntm                             0\n",
       "calendar_updated                                9582\n",
       "has_availability                                   0\n",
       "availability_30                                    0\n",
       "availability_60                                    0\n",
       "availability_90                                    0\n",
       "availability_365                                   0\n",
       "calendar_last_scraped                              0\n",
       "number_of_reviews                                  0\n",
       "number_of_reviews_ltm                              0\n",
       "number_of_reviews_l30d                             0\n",
       "first_review                                    1708\n",
       "last_review                                     1708\n",
       "license                                         1922\n",
       "instant_bookable                                   0\n",
       "calculated_host_listings_count                     0\n",
       "calculated_host_listings_count_entire_homes        0\n",
       "calculated_host_listings_count_private_rooms       0\n",
       "calculated_host_listings_count_shared_rooms        0\n",
       "reviews_per_month                               1708\n",
       "dtype: int64"
      ]
     },
     "execution_count": 13,
     "metadata": {},
     "output_type": "execute_result"
    }
   ],
   "source": [
    "print('-'*11 + 'listings.csv column nan values' + '-'*11)\n",
    "pd.set_option('display.max_rows', lis.shape[0])\n",
    "lis.isna().sum(axis=0)"
   ]
  },
  {
   "cell_type": "markdown",
   "id": "477e25c9",
   "metadata": {},
   "source": [
    "As can be seen from the output above, there are three features of the listings that are void of any information (neighbourhood_group_cleansed, bathrooms and calendar_updated), therefore can be discarded from the dataframe."
   ]
  },
  {
   "cell_type": "markdown",
   "id": "5c58ca48",
   "metadata": {},
   "source": [
    "Also for the <b>ratings</b> we have:"
   ]
  },
  {
   "cell_type": "code",
   "execution_count": 14,
   "id": "52369ba8",
   "metadata": {},
   "outputs": [
    {
     "name": "stdout",
     "output_type": "stream",
     "text": [
      "--Ratings column nan values--\n"
     ]
    },
    {
     "data": {
      "text/plain": [
       "listing_id         0\n",
       "id                 0\n",
       "date               0\n",
       "reviewer_id        0\n",
       "reviewer_name      0\n",
       "comments         407\n",
       "dtype: int64"
      ]
     },
     "execution_count": 14,
     "metadata": {},
     "output_type": "execute_result"
    }
   ],
   "source": [
    "print('--Ratings column nan values--')\n",
    "pd.set_option('display.max_rows', rate.shape[0])\n",
    "rate.isna().sum(axis=0)"
   ]
  },
  {
   "cell_type": "markdown",
   "id": "29cf6c85",
   "metadata": {},
   "source": [
    "# 4) How many listings per neighbourhood are there?"
   ]
  },
  {
   "cell_type": "markdown",
   "id": "2502bfa6",
   "metadata": {},
   "source": [
    "Although there is a feature named **neighbourhood** in the dataframe for the listings, it often contains duplicate values which are slightly variated in spelling, for example *'Athens,Attica,Greece'* and *'Athens, Αττική, Greece'* ."
   ]
  },
  {
   "cell_type": "markdown",
   "id": "6d98b3f9",
   "metadata": {},
   "source": [
    "Another feature which can be used in this case is neighbourhood_cleansed, which contains much more concise information about the neighbourhood of each listing."
   ]
  },
  {
   "cell_type": "code",
   "execution_count": 15,
   "id": "59a6e153",
   "metadata": {},
   "outputs": [
    {
     "data": {
      "text/plain": [
       "ΕΜΠΟΡΙΚΟ ΤΡΙΓΩΝΟ-ΠΛΑΚΑ              1866\n",
       "ΚΟΥΚΑΚΙ-ΜΑΚΡΥΓΙΑΝΝΗ                  841\n",
       "ΝΕΟΣ ΚΟΣΜΟΣ                          713\n",
       "ΜΟΥΣΕΙΟ-ΕΞΑΡΧΕΙΑ-ΝΕΑΠΟΛΗ             699\n",
       "ΑΓΙΟΣ ΚΩΝΣΤΑΝΤΙΝΟΣ-ΠΛΑΤΕΙΑ ΒΑΘΗΣ     599\n",
       "ΠΑΓΚΡΑΤΙ                             383\n",
       "ΠΛΑΤΕΙΑ ΑΤΤΙΚΗΣ                      381\n",
       "ΚΟΛΩΝΑΚΙ                             330\n",
       "ΑΜΠΕΛΟΚΗΠΟΙ                          329\n",
       "ΑΚΡΟΠΟΛΗ                             319\n",
       "ΘΗΣΕΙΟ                               294\n",
       "ΚΕΡΑΜΕΙΚΟΣ                           244\n",
       "ΣΤΑΔΙΟ                               223\n",
       "ΠΕΤΡΑΛΩΝΑ                            214\n",
       "ΚΥΨΕΛΗ                               201\n",
       "ΙΛΙΣΙΑ                               172\n",
       "ΓΟΥΔΙ                                162\n",
       "ΖΑΠΠΕΙΟ                              141\n",
       "ΛΥΚΑΒΗΤΤΟΣ                           117\n",
       "ΠΑΤΗΣΙΑ                              117\n",
       "ΠΛΑΤΕΙΑ ΑΜΕΡΙΚΗΣ                     116\n",
       "ΝΙΡΒΑΝΑ                              105\n",
       "ΓΚΥΖΗ                                 88\n",
       "ΚΟΛΩΝΟΣ                               82\n",
       "ΣΤΑΘΜΟΣ ΛΑΡΙΣΗΣ                       79\n",
       "ΠΕΔΙΟ ΑΡΕΩΣ                           78\n",
       "ΓΚΑΖΙ                                 72\n",
       "ΑΝΩ ΚΥΨΕΛΗ                            71\n",
       "ΑΓΙΟΣ ΝΙΚΟΛΑΟΣ                        70\n",
       "ΒΟΤΑΝΙΚΟΣ                             62\n",
       "ΑΚΑΔΗΜΙΑ ΠΛΑΤΩΝΟΣ                     61\n",
       "ΑΝΩ ΠΑΤΗΣΙΑ                           58\n",
       "ΓΟΥΒΑ                                 53\n",
       "ΝΕΑ ΚΥΨΕΛΗ                            52\n",
       "ΕΛΛΗΝΟΡΩΣΩΝ                           42\n",
       "1Ο ΝΕΚΡΟΤΑΦΕΙΟ                        33\n",
       "ΣΕΠΟΛΙΑ                               28\n",
       "ΠΟΛΥΓΩΝΟ                              24\n",
       "ΑΓΙΟΣ ΕΛΕΥΘΕΡΙΟΣ                      21\n",
       "ΚΟΛΟΚΥΝΘΟΥ                            18\n",
       "ΡΙΖΟΥΠΟΛΗ                             10\n",
       "ΠΡΟΜΠΟΝΑ                               9\n",
       "ΡΗΓΙΛΛΗΣ                               3\n",
       "ΠΕΝΤΑΓΩΝΟ                              2\n",
       "Name: neighbourhood_cleansed, dtype: int64"
      ]
     },
     "execution_count": 15,
     "metadata": {},
     "output_type": "execute_result"
    }
   ],
   "source": [
    "lis['neighbourhood_cleansed'].value_counts()"
   ]
  },
  {
   "cell_type": "markdown",
   "id": "6ad55d64",
   "metadata": {},
   "source": [
    "# 5) How many listings per room type are there?"
   ]
  },
  {
   "cell_type": "code",
   "execution_count": 16,
   "id": "33e83358",
   "metadata": {},
   "outputs": [],
   "source": [
    "lis_room_type = lis.room_type.value_counts()"
   ]
  },
  {
   "cell_type": "code",
   "execution_count": 17,
   "id": "3639e4e3",
   "metadata": {},
   "outputs": [
    {
     "name": "stdout",
     "output_type": "stream",
     "text": [
      "Entire home/apt    8463\n",
      "Private room        891\n",
      "Hotel room          138\n",
      "Shared room          90\n",
      "Name: room_type, dtype: int64\n"
     ]
    }
   ],
   "source": [
    "type(lis_room_type)\n",
    "print(lis_room_type)"
   ]
  },
  {
   "cell_type": "code",
   "execution_count": 18,
   "id": "8bcbc121",
   "metadata": {},
   "outputs": [
    {
     "data": {
      "image/png": "[encoded data removed]",
      "text/plain": [
       "<Figure size 576x360 with 1 Axes>"
      ]
     },
     "metadata": {
      "needs_background": "light"
     },
     "output_type": "display_data"
    }
   ],
   "source": [
    "plt.figure(figsize=(8,5))\n",
    "plt.bar(lis_room_type.index, lis_room_type.values, edgecolor = \"black\", color = \"green\")\n",
    "plt.xlabel(\"Room type\")\n",
    "plt.ylabel(\"Amount of listings\")\n",
    "plt.show()"
   ]
  },
  {
   "cell_type": "markdown",
   "id": "6aa5c7f5",
   "metadata": {},
   "source": [
    "# 6) How many listings per room number are there?"
   ]
  },
  {
   "cell_type": "code",
   "execution_count": 19,
   "id": "267878a9",
   "metadata": {},
   "outputs": [],
   "source": [
    "lis_bedrooms = lis.bedrooms.value_counts()"
   ]
  },
  {
   "cell_type": "code",
   "execution_count": 20,
   "id": "673c550d",
   "metadata": {},
   "outputs": [
    {
     "name": "stdout",
     "output_type": "stream",
     "text": [
      "1.0     5483\n",
      "2.0     2579\n",
      "3.0      507\n",
      "4.0      132\n",
      "5.0       29\n",
      "6.0       28\n",
      "10.0       5\n",
      "7.0        4\n",
      "9.0        1\n",
      "12.0       1\n",
      "Name: bedrooms, dtype: int64\n"
     ]
    }
   ],
   "source": [
    "print(lis_bedrooms)"
   ]
  },
  {
   "cell_type": "code",
   "execution_count": 21,
   "id": "27aec726",
   "metadata": {},
   "outputs": [
    {
     "data": {
      "image/png": "[encoded data removed]",
      "text/plain": [
       "<Figure size 864x720 with 1 Axes>"
      ]
     },
     "metadata": {
      "needs_background": "light"
     },
     "output_type": "display_data"
    }
   ],
   "source": [
    "plt.figure(figsize= (12,10))\n",
    "plt.bar(lis_bedrooms.index, lis_bedrooms.values, edgecolor = \"black\", color = \"purple\")\n",
    "plt.xlabel(\"Room nymber\")\n",
    "plt.ylabel(\"Amount of listings\")\n",
    "plt.show()"
   ]
  },
  {
   "cell_type": "markdown",
   "id": "f55485f5",
   "metadata": {},
   "source": [
    "# 7) What is the distribution of listings per host? What are the most listings that a single host has?"
   ]
  },
  {
   "cell_type": "code",
   "execution_count": 22,
   "id": "2baf56ff",
   "metadata": {},
   "outputs": [
    {
     "data": {
      "text/plain": [
       "29927830     156\n",
       "1621474       75\n",
       "20104194      74\n",
       "112527018     65\n",
       "748818        62\n",
       "            ... \n",
       "520237         1\n",
       "199958575      1\n",
       "243652656      1\n",
       "62296113       1\n",
       "158042111      1\n",
       "Name: host_id, Length: 4800, dtype: int64"
      ]
     },
     "execution_count": 22,
     "metadata": {},
     "output_type": "execute_result"
    }
   ],
   "source": [
    "pd.set_option('display.max_rows', 10)\n",
    "lis.host_id.value_counts()"
   ]
  },
  {
   "cell_type": "code",
   "execution_count": 23,
   "id": "90f96218",
   "metadata": {},
   "outputs": [
    {
     "data": {
      "text/plain": [
       "156"
      ]
     },
     "execution_count": 23,
     "metadata": {},
     "output_type": "execute_result"
    }
   ],
   "source": [
    "lis.host_id.value_counts().max()"
   ]
  },
  {
   "cell_type": "markdown",
   "id": "2300d187",
   "metadata": {},
   "source": [
    "# 8) When was the first host registered?"
   ]
  },
  {
   "cell_type": "code",
   "execution_count": 24,
   "id": "7ba2615b",
   "metadata": {},
   "outputs": [],
   "source": [
    "host_since = lis.copy()\n",
    "host_since.dropna(subset=[\"host_since\"], axis = 0, inplace = True)\n",
    "first_registration_date = host_since[\"host_since\"].min()"
   ]
  },
  {
   "cell_type": "code",
   "execution_count": 25,
   "id": "9b2c2833",
   "metadata": {},
   "outputs": [
    {
     "name": "stdout",
     "output_type": "stream",
     "text": [
      "The first host has been registered since 2009-09-08\n"
     ]
    }
   ],
   "source": [
    "print(\"The first host has been registered since {}\" .format(first_registration_date))"
   ]
  },
  {
   "cell_type": "markdown",
   "id": "27b45a6e",
   "metadata": {},
   "source": [
    "# 9) What year had the most hosts registered?"
   ]
  },
  {
   "cell_type": "markdown",
   "id": "6519d2e8",
   "metadata": {},
   "source": [
    "We are going to get all the **years** that can be found in the dataset and then store the number of **hosts per year**."
   ]
  },
  {
   "cell_type": "code",
   "execution_count": 26,
   "id": "b19cfec2",
   "metadata": {},
   "outputs": [],
   "source": [
    "years = []\n",
    "for i in range (len(host_since)):\n",
    "    year = str(host_since[\"host_since\"].iloc[i])[:4]\n",
    "    if not year in years:\n",
    "        years.append(year)"
   ]
  },
  {
   "cell_type": "code",
   "execution_count": 27,
   "id": "521519e8",
   "metadata": {},
   "outputs": [],
   "source": [
    "hosts = []\n",
    "for year in years:\n",
    "    count = 0\n",
    "    for i in range(len(host_since)):\n",
    "        if str(host_since[\"host_since\"].iloc[i])[:4] == year:\n",
    "            count += 1\n",
    "    hosts.append(count)"
   ]
  },
  {
   "cell_type": "code",
   "execution_count": 28,
   "id": "5ec7cb1b",
   "metadata": {},
   "outputs": [
    {
     "name": "stdout",
     "output_type": "stream",
     "text": [
      "1713 hosts have been registered since 2018.\n"
     ]
    }
   ],
   "source": [
    "print(\"{} hosts have been registered since {}.\" .format(hosts[np.argmax(hosts)], years[np.argmax(hosts)]))"
   ]
  },
  {
   "cell_type": "markdown",
   "id": "33e9ce53",
   "metadata": {},
   "source": [
    "We are now going to sort the **years**:"
   ]
  },
  {
   "cell_type": "code",
   "execution_count": 29,
   "id": "61ebe04c",
   "metadata": {},
   "outputs": [
    {
     "data": {
      "image/png": "[encoded data removed]",
      "text/plain": [
       "<Figure size 864x504 with 1 Axes>"
      ]
     },
     "metadata": {
      "needs_background": "light"
     },
     "output_type": "display_data"
    }
   ],
   "source": [
    "i = 0\n",
    "while i <= len(years)-2:\n",
    "    minimum = i\n",
    "    j = i+1\n",
    "    while j <= len(years)-1:\n",
    "        if years[j] <= years[minimum]:\n",
    "            minimum = j\n",
    "        j += 1\n",
    "    years[i], years[minimum] = years[minimum], years[i]\n",
    "    hosts[i], hosts[minimum] = hosts[minimum], hosts[i]\n",
    "    i += 1\n",
    "\n",
    "\n",
    "plt.figure(figsize=(12, 7))\n",
    "plt.plot(years, hosts, marker=\"o\", color=\"red\")\n",
    "plt.xlabel(\"Years\")\n",
    "plt.ylabel(\"Number of registrations\")\n",
    "plt.show()"
   ]
  },
  {
   "cell_type": "markdown",
   "id": "f1a731bf",
   "metadata": {},
   "source": [
    "# 10) How many identified hosts are there? What is their percentage over all hosts?"
   ]
  },
  {
   "cell_type": "code",
   "execution_count": 30,
   "id": "9556e32c",
   "metadata": {},
   "outputs": [
    {
     "data": {
      "text/plain": [
       "6928"
      ]
     },
     "execution_count": 30,
     "metadata": {},
     "output_type": "execute_result"
    }
   ],
   "source": [
    "num_of_verified_hosts = lis.host_identity_verified.value_counts()['t']\n",
    "num_of_verified_hosts"
   ]
  },
  {
   "cell_type": "code",
   "execution_count": 31,
   "id": "5ebcfeb2",
   "metadata": {},
   "outputs": [
    {
     "name": "stdout",
     "output_type": "stream",
     "text": [
      "72.32%\n"
     ]
    }
   ],
   "source": [
    "num_of_unverified_hosts = lis.host_identity_verified.value_counts()['f']\n",
    "percentage_of_verified = (num_of_verified_hosts*100) / (num_of_verified_hosts + num_of_unverified_hosts)\n",
    "print(f'{percentage_of_verified:.2f}' + '%')"
   ]
  },
  {
   "cell_type": "markdown",
   "id": "2b304dd0",
   "metadata": {},
   "source": [
    "# 11) What are the top-20 most common amenities provided by the hosts?"
   ]
  },
  {
   "cell_type": "markdown",
   "id": "bce9a8c1",
   "metadata": {},
   "source": [
    "We are going to store the **amenities** into a list (duplicates might exist) :"
   ]
  },
  {
   "cell_type": "code",
   "execution_count": 34,
   "id": "aa045993",
   "metadata": {},
   "outputs": [],
   "source": [
    "all_amenities = []\n",
    "for idx in range(len(lis[\"amenities\"])):\n",
    "    for amenity in lis[\"amenities\"][idx].split(\", \"):\n",
    "        if \"[\" in amenity:\n",
    "            amenity = amenity[1:]\n",
    "        if \"]\" in amenity:\n",
    "            amenity = amenity [:-2]\n",
    "        amenity = amenity[1:-1]\n",
    "        all_amenities.append(amenity)"
   ]
  },
  {
   "cell_type": "markdown",
   "id": "29409919",
   "metadata": {},
   "source": [
    "Next, we will find the **unique amenities** with their respective occurences :"
   ]
  },
  {
   "cell_type": "code",
   "execution_count": 35,
   "id": "b9a2a954",
   "metadata": {},
   "outputs": [],
   "source": [
    "amenities, occurences = np.unique(all_amenities, return_counts = True)"
   ]
  },
  {
   "cell_type": "markdown",
   "id": "925cd13c",
   "metadata": {},
   "source": [
    "We will sort the lists by using *selection sort algorithm* :"
   ]
  },
  {
   "cell_type": "code",
   "execution_count": 36,
   "id": "db2d95f6",
   "metadata": {},
   "outputs": [],
   "source": [
    "i = 0\n",
    "while i <= len(occurences)-2:\n",
    "    maximum = i\n",
    "    j = i+1\n",
    "    while j <= len(occurences)-1:\n",
    "        if occurences[j] >= occurences[maximum]:\n",
    "            maximum = j\n",
    "        j += 1\n",
    "    occurences[i], occurences[maximum] = occurences[maximum], occurences[i]\n",
    "    amenities[i], amenities[maximum] = amenities[maximum], amenities[i]\n",
    "    i += 1"
   ]
  },
  {
   "cell_type": "markdown",
   "id": "456c9fac",
   "metadata": {},
   "source": [
    "Now let's find the top 20 **amenities** :"
   ]
  },
  {
   "cell_type": "code",
   "execution_count": 37,
   "id": "7783ff19",
   "metadata": {},
   "outputs": [],
   "source": [
    "top_20 = {}\n",
    "for i in range(len(amenities)):\n",
    "    if i == 20:\n",
    "        break\n",
    "    top_20[amenities[i]] = occurences[i]"
   ]
  },
  {
   "cell_type": "code",
   "execution_count": 38,
   "id": "aa4ea3bb",
   "metadata": {},
   "outputs": [
    {
     "data": {
      "text/html": [
       "<div>\n",
       "<style scoped>\n",
       "    .dataframe tbody tr th:only-of-type {\n",
       "        vertical-align: middle;\n",
       "    }\n",
       "\n",
       "    .dataframe tbody tr th {\n",
       "        vertical-align: top;\n",
       "    }\n",
       "\n",
       "    .dataframe thead th {\n",
       "        text-align: right;\n",
       "    }\n",
       "</style>\n",
       "<table border=\"1\" class=\"dataframe\">\n",
       "  <thead>\n",
       "    <tr style=\"text-align: right;\">\n",
       "      <th></th>\n",
       "      <th>top 20 amenities</th>\n",
       "      <th>total frequencies</th>\n",
       "    </tr>\n",
       "  </thead>\n",
       "  <tbody>\n",
       "    <tr>\n",
       "      <th>0</th>\n",
       "      <td>Essentials</td>\n",
       "      <td>9077</td>\n",
       "    </tr>\n",
       "    <tr>\n",
       "      <th>1</th>\n",
       "      <td>Wifi</td>\n",
       "      <td>8746</td>\n",
       "    </tr>\n",
       "    <tr>\n",
       "      <th>2</th>\n",
       "      <td>Hair dryer</td>\n",
       "      <td>8723</td>\n",
       "    </tr>\n",
       "    <tr>\n",
       "      <th>3</th>\n",
       "      <td>Long term stays allowed</td>\n",
       "      <td>8686</td>\n",
       "    </tr>\n",
       "    <tr>\n",
       "      <th>4</th>\n",
       "      <td>Air conditioning</td>\n",
       "      <td>8665</td>\n",
       "    </tr>\n",
       "    <tr>\n",
       "      <th>...</th>\n",
       "      <td>...</td>\n",
       "      <td>...</td>\n",
       "    </tr>\n",
       "    <tr>\n",
       "      <th>15</th>\n",
       "      <td>Dedicated workspace</td>\n",
       "      <td>6277</td>\n",
       "    </tr>\n",
       "    <tr>\n",
       "      <th>16</th>\n",
       "      <td>Shampo</td>\n",
       "      <td>6233</td>\n",
       "    </tr>\n",
       "    <tr>\n",
       "      <th>17</th>\n",
       "      <td>Bed linens</td>\n",
       "      <td>5887</td>\n",
       "    </tr>\n",
       "    <tr>\n",
       "      <th>18</th>\n",
       "      <td>Elevator</td>\n",
       "      <td>5322</td>\n",
       "    </tr>\n",
       "    <tr>\n",
       "      <th>19</th>\n",
       "      <td>Fire extinguisher</td>\n",
       "      <td>5213</td>\n",
       "    </tr>\n",
       "  </tbody>\n",
       "</table>\n",
       "<p>20 rows × 2 columns</p>\n",
       "</div>"
      ],
      "text/plain": [
       "           top 20 amenities  total frequencies\n",
       "0                Essentials               9077\n",
       "1                      Wifi               8746\n",
       "2                Hair dryer               8723\n",
       "3   Long term stays allowed               8686\n",
       "4          Air conditioning               8665\n",
       "..                      ...                ...\n",
       "15      Dedicated workspace               6277\n",
       "16                   Shampo               6233\n",
       "17               Bed linens               5887\n",
       "18                 Elevator               5322\n",
       "19        Fire extinguisher               5213\n",
       "\n",
       "[20 rows x 2 columns]"
      ]
     },
     "execution_count": 38,
     "metadata": {},
     "output_type": "execute_result"
    }
   ],
   "source": [
    "pd.DataFrame({\"top 20 amenities\": top_20.keys(), \"total frequencies\": top_20.values()})"
   ]
  },
  {
   "cell_type": "markdown",
   "id": "a0c9b476",
   "metadata": {},
   "source": [
    "Lastly, let's have a look at a *bar plot* :"
   ]
  },
  {
   "cell_type": "code",
   "execution_count": 39,
   "id": "0e19b422",
   "metadata": {},
   "outputs": [
    {
     "data": {
      "image/png": "[encoded data removed]",
      "text/plain": [
       "<Figure size 864x504 with 1 Axes>"
      ]
     },
     "metadata": {
      "needs_background": "light"
     },
     "output_type": "display_data"
    }
   ],
   "source": [
    "plt.figure(figsize=(12,7))\n",
    "plt.bar(top_20.keys(), top_20.values(), edgecolor=\"red\")\n",
    "plt.xticks(rotation=80)\n",
    "plt.xlabel(\"Amenities\")\n",
    "plt.ylabel(\"Number of occurences\")\n",
    "plt.show()"
   ]
  },
  {
   "cell_type": "markdown",
   "id": "75a870f8",
   "metadata": {},
   "source": [
    "# 12) What is the distribution of price for each room type?"
   ]
  },
  {
   "cell_type": "markdown",
   "id": "9283179f",
   "metadata": {},
   "source": [
    "We can plot the distribution of **price per room type** usng pandas hist function with argument by= **room type**. By visualizing the distibutions allows for a more convenient observation of outlier values."
   ]
  },
  {
   "cell_type": "code",
   "execution_count": 40,
   "id": "4a62cd5a",
   "metadata": {},
   "outputs": [
    {
     "data": {
      "image/png": "[encoded data removed]",
      "text/plain": [
       "<Figure size 1008x1224 with 4 Axes>"
      ]
     },
     "metadata": {
      "needs_background": "light"
     },
     "output_type": "display_data"
    }
   ],
   "source": [
    "lis['price_cleansed'] = lis['price'].apply(lambda x : x.split('$')[1].replace(',','')).apply(lambda x: float(x))\n",
    "plots = lis[['room_type','price_cleansed']].hist(by='room_type', bins=180, figsize = (14,17))\n",
    "for ax in plots.flatten():\n",
    "    ax.set_xlabel(\"Price\")\n",
    "    ax.set_ylabel(\"Frequency\")"
   ]
  },
  {
   "cell_type": "markdown",
   "id": "33205dc9",
   "metadata": {},
   "source": [
    "# 13) How many ratings do I have?"
   ]
  },
  {
   "cell_type": "code",
   "execution_count": 41,
   "id": "ee33dec1",
   "metadata": {},
   "outputs": [
    {
     "name": "stdout",
     "output_type": "stream",
     "text": [
      " Total number of ratings: 406607\n"
     ]
    }
   ],
   "source": [
    "print(f' Total number of ratings: {rate.shape[0]}')"
   ]
  },
  {
   "cell_type": "markdown",
   "id": "e676fc2a",
   "metadata": {},
   "source": [
    "It is also possible to check for any duplicates in the dataset:"
   ]
  },
  {
   "cell_type": "code",
   "execution_count": 42,
   "id": "1e478bac",
   "metadata": {},
   "outputs": [
    {
     "name": "stdout",
     "output_type": "stream",
     "text": [
      "Total number of duplicate ratings: 0\n"
     ]
    }
   ],
   "source": [
    "print(f'Total number of duplicate ratings: {rate.duplicated(keep = \"first\").sum()}')"
   ]
  },
  {
   "cell_type": "markdown",
   "id": "59691fe9",
   "metadata": {},
   "source": [
    "# 14) Do all listings have ratings?"
   ]
  },
  {
   "cell_type": "markdown",
   "id": "c9d4607e",
   "metadata": {},
   "source": [
    "We can check wheter all listings have ratings by intersecting the list of all listing IDs in **listings** (lis['id].tolist( ) ) and the list of all rated listing IDs in **ratings** (rate['listing_id'].unique( ) ). Calling the unique( ) function is needed as multiple ratings might correspond to a single listing.\n",
    "\n",
    "The length of the resulting list can be used to obtain the number of listing IDs that are contained in **listings** that have a rating."
   ]
  },
  {
   "cell_type": "code",
   "execution_count": 43,
   "id": "6c636c3e",
   "metadata": {},
   "outputs": [
    {
     "name": "stdout",
     "output_type": "stream",
     "text": [
      "Listings with ratings: 7874\n"
     ]
    }
   ],
   "source": [
    "rated_listing_ids = np.intersect1d(rate['listing_id'].unique(), lis['id'].tolist() )\n",
    "print(f'Listings with ratings: {len(rated_listing_ids)}')\n"
   ]
  },
  {
   "cell_type": "markdown",
   "id": "0a63e3ea",
   "metadata": {},
   "source": [
    "It might also be interesting to observe whether there are any listings in **listings** that have invalid rating, i.e. ratings whose comments have a nan value."
   ]
  },
  {
   "cell_type": "code",
   "execution_count": 44,
   "id": "68f20972",
   "metadata": {},
   "outputs": [
    {
     "name": "stdout",
     "output_type": "stream",
     "text": [
      "Listings with invalid ratings: 357\n"
     ]
    }
   ],
   "source": [
    "rated_listing_ids = np.intersect1d(rate[rate['comments'].isna()]['listing_id'].unique(), lis['id'].tolist())\n",
    "print(f'Listings with invalid ratings: {len(rated_listing_ids)}')"
   ]
  },
  {
   "cell_type": "markdown",
   "id": "ef29d19b",
   "metadata": {},
   "source": [
    "We can safely conclude that only a few of the ratings with missing comments may be redundant in the dataset."
   ]
  },
  {
   "cell_type": "code",
   "execution_count": null,
   "id": "41cd846e",
   "metadata": {},
   "outputs": [],
   "source": []
  }
 ],
 "metadata": {
  "kernelspec": {
   "display_name": "Python 3",
   "language": "python",
   "name": "python3"
  },
  "language_info": {
   "codemirror_mode": {
    "name": "ipython",
    "version": 3
   },
   "file_extension": ".py",
   "mimetype": "text/x-python",
   "name": "python",
   "nbconvert_exporter": "python",
   "pygments_lexer": "ipython3",
   "version": "3.8.8"
  }
 },
 "nbformat": 4,
 "nbformat_minor": 5
}
