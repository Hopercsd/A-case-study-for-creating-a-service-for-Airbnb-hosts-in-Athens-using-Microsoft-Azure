{
 "cells": [
  {
   "cell_type": "code",
   "execution_count": 1,
   "id": "scenic-range",
   "metadata": {},
   "outputs": [],
   "source": [
    "import requests\n",
    "\n",
    "new_case = {'id': 157648,\n",
    "            'listing_url': '',\n",
    "            'scrape_id': 34,\n",
    "            'last_scraped': '',\n",
    "            'name': '',\n",
    "            'description': 'some text description about the place!',\n",
    "            'neighborhood_overview': 'the neighborhood is awesome.',\n",
    "            'picture_url': '',\n",
    "            'host_id': 2234,\n",
    "            'host_url': '',\n",
    "            'host_name': '',\n",
    "            'host_since': '2012-08-18',\n",
    "            'host_location': '',\n",
    "            'host_about': '',\n",
    "            'host_response_time': 'within a few hours',\n",
    "            'host_response_rate': '90%',\n",
    "            'host_acceptance_rate': '87%',\n",
    "            'host_is_superhost': 't',\n",
    "            'host_thumbnail_url': '',\n",
    "            'host_picture_url': '',\n",
    "            'host_neighbourhood': '',\n",
    "            'host_listings_count': 183.0,\n",
    "            'host_total_listings_count': 51.0,\n",
    "            'host_verifications': '',\n",
    "            'host_has_profile_pic': 't',\n",
    "            'host_identity_verified': 't',\n",
    "            'neighbourhood': '',\n",
    "            'neighbourhood_cleansed': 'ΝΕΟΣ ΚΟΣΜΟΣ',\n",
    "            'neighbourhood_group_cleansed': 1.2,\n",
    "            'latitude': 37.986130,\n",
    "            'longitude': 23.715900,\n",
    "            'property_type': 'Room in aparthotel',\n",
    "            'room_type': 'Hotel room',\n",
    "            'accommodates': 5,\n",
    "            'bathrooms': 1.0,\n",
    "            'bathrooms_text': '4 bath',\n",
    "            'bedrooms': 4,\n",
    "            'beds': 6,\n",
    "            'amenities': '[\"Free street parking\", \"Crib\", \"Patio or balcony\", \"TV\", \"Private entrance\", \"Host greets you\", \"Outdoor furniture\", \"Free parking on premises\", \"Wifi\", \"Long term stays allowed\", \"Iron\", \"Backyard\", \"Air conditioning\", \"Lock on bedroom door\", \"Elevator\", \"Hangers\", \"Essentials\", \"Heating\", \"Fire extinguisher\", \"Hair dryer\", \"Dedicated workspace\", \"Shampoo\"]',\n",
    "            'minimum_nights': 1,\n",
    "            'maximum_nights': 100,\n",
    "            'minimum_minimum_nights': 1,\n",
    "            'maximum_minimum_nights': 25,\n",
    "            'minimum_maximum_nights': 365,\n",
    "            'maximum_maximum_nights': 1125,\n",
    "            'minimum_nights_avg_ntm': 20.0,\n",
    "            'maximum_nights_avg_ntm': 365.0,\n",
    "            'calendar_updated': '2019-07-25',\n",
    "            'has_availability': 't',\n",
    "            'availability_30': 15,\n",
    "            'availability_60': 54,\n",
    "            'availability_90': 83,\n",
    "            'availability_365': 191,\n",
    "            'calendar_last_scraped': '',\n",
    "            'number_of_reviews': 363,\n",
    "            'number_of_reviews_ltm': 3,\n",
    "            'number_of_reviews_l30d': 5,\n",
    "            'first_review': '2016-07-03',\n",
    "            'last_review': '2018-10-05',\n",
    "            'license': '68734683764',\n",
    "            'instant_bookable': 't',\n",
    "            'calculated_host_listings_count': 75,\n",
    "            'calculated_host_listings_count_entire_homes': 6,\n",
    "            'calculated_host_listings_count_private_rooms': 57,\n",
    "            'calculated_host_listings_count_shared_rooms': 34,\n",
    "            'reviews_per_month': 1.00\n",
    "            }"
   ]
  },
  {
   "cell_type": "code",
   "execution_count": 2,
   "id": "graduate-azerbaijan",
   "metadata": {},
   "outputs": [],
   "source": [
    "# local\n",
    "# r = requests.post('http://127.0.0.1:8000/predict', headers={'Content-Type': 'application/json'}, json=new_case)\n",
    "\n",
    "# azure\n",
    "r = requests.post('http://20.103.129.96:8000/predict', headers={'Content-Type': 'application/json'}, json=new_case)"
   ]
  },
  {
   "cell_type": "code",
   "execution_count": 5,
   "id": "painted-discipline",
   "metadata": {},
   "outputs": [],
   "source": [
    "r.status_code"
   ]
  },
  {
   "cell_type": "code",
   "execution_count": 6,
   "id": "viral-example",
   "metadata": {},
   "outputs": [],
   "source": [
    "r.json()"
   ]
  },
  {
   "cell_type": "code",
   "execution_count": null,
   "id": "protected-consultancy",
   "metadata": {},
   "outputs": [],
   "source": []
  }
 ],
 "metadata": {
  "kernelspec": {
   "display_name": "Python 3",
   "language": "python",
   "name": "python3"
  },
  "language_info": {
   "codemirror_mode": {
    "name": "ipython",
    "version": 3
   },
   "file_extension": ".py",
   "mimetype": "text/x-python",
   "name": "python",
   "nbconvert_exporter": "python",
   "pygments_lexer": "ipython3",
   "version": "3.7.1"
  }
 },
 "nbformat": 4,
 "nbformat_minor": 5
}
