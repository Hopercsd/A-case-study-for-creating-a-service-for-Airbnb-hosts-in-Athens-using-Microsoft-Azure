{
 "cells": [
  {
   "cell_type": "code",
   "execution_count": 1,
   "metadata": {},
   "outputs": [],
   "source": [
    "import pandas as pd\n",
    "import numpy as np\n",
    "from scipy import stats\n",
    "from sklearn.preprocessing import StandardScaler\n",
    "from sklearn.model_selection import train_test_split"
   ]
  },
  {
   "cell_type": "code",
   "execution_count": 2,
   "metadata": {},
   "outputs": [],
   "source": [
    "listings = pd.read_csv('data/listings.csv')\n",
    "reviews1 = pd.read_csv('data/reviews1.csv')\n",
    "reviews2 = pd.read_csv('data/reviews2.csv')\n",
    "reviews3 = pd.read_csv('data/reviews3.csv')\n",
    "reviews4 = pd.read_csv('data/reviews4.csv')"
   ]
  },
  {
   "cell_type": "markdown",
   "metadata": {},
   "source": [
    "# 5.2 Preprocessing"
   ]
  },
  {
   "cell_type": "markdown",
   "metadata": {},
   "source": [
    "Firts we are concatenating the reviews files in one dataframe"
   ]
  },
  {
   "cell_type": "code",
   "execution_count": 3,
   "metadata": {},
   "outputs": [],
   "source": [
    "reviews = pd.concat([reviews1, reviews2, reviews3, reviews4])"
   ]
  },
  {
   "cell_type": "markdown",
   "metadata": {},
   "source": [
    "What is the new shape of reviews dataframe?"
   ]
  },
  {
   "cell_type": "code",
   "execution_count": 4,
   "metadata": {},
   "outputs": [
    {
     "data": {
      "text/plain": [
       "406607"
      ]
     },
     "execution_count": 4,
     "metadata": {},
     "output_type": "execute_result"
    }
   ],
   "source": [
    "reviews.shape[0]"
   ]
  },
  {
   "cell_type": "code",
   "execution_count": 5,
   "metadata": {},
   "outputs": [
    {
     "data": {
      "text/plain": [
       "6"
      ]
     },
     "execution_count": 5,
     "metadata": {},
     "output_type": "execute_result"
    }
   ],
   "source": [
    "reviews.shape[1]"
   ]
  },
  {
   "cell_type": "markdown",
   "metadata": {},
   "source": [
    "Reviews dataframe contains 406606 rows and 6 columns"
   ]
  },
  {
   "cell_type": "markdown",
   "metadata": {},
   "source": [
    "Now we will check how many NaN values this dataframe has and how many in each column"
   ]
  },
  {
   "cell_type": "code",
   "execution_count": 6,
   "metadata": {},
   "outputs": [
    {
     "name": "stdout",
     "output_type": "stream",
     "text": [
      "407\n",
      "listing_id         0\n",
      "id                 0\n",
      "date               0\n",
      "reviewer_id        0\n",
      "reviewer_name      0\n",
      "comments         407\n",
      "dtype: int64\n"
     ]
    }
   ],
   "source": [
    "print(reviews.isnull().any(axis=1).sum())\n",
    "print(reviews.isna().sum())"
   ]
  },
  {
   "cell_type": "markdown",
   "metadata": {},
   "source": [
    "We see that there are NaN values only in 'coments' column"
   ]
  },
  {
   "cell_type": "code",
   "execution_count": 7,
   "metadata": {
    "scrolled": true
   },
   "outputs": [
    {
     "data": {
      "text/html": [
       "<div>\n",
       "<style scoped>\n",
       "    .dataframe tbody tr th:only-of-type {\n",
       "        vertical-align: middle;\n",
       "    }\n",
       "\n",
       "    .dataframe tbody tr th {\n",
       "        vertical-align: top;\n",
       "    }\n",
       "\n",
       "    .dataframe thead th {\n",
       "        text-align: right;\n",
       "    }\n",
       "</style>\n",
       "<table border=\"1\" class=\"dataframe\">\n",
       "  <thead>\n",
       "    <tr style=\"text-align: right;\">\n",
       "      <th></th>\n",
       "      <th>listing_id</th>\n",
       "      <th>id</th>\n",
       "      <th>date</th>\n",
       "      <th>reviewer_id</th>\n",
       "      <th>reviewer_name</th>\n",
       "      <th>comments</th>\n",
       "    </tr>\n",
       "  </thead>\n",
       "  <tbody>\n",
       "    <tr>\n",
       "      <th>12637</th>\n",
       "      <td>1094063</td>\n",
       "      <td>141658642</td>\n",
       "      <td>2017-04-04</td>\n",
       "      <td>94260523</td>\n",
       "      <td>Mihnea Cristian</td>\n",
       "      <td>NaN</td>\n",
       "    </tr>\n",
       "    <tr>\n",
       "      <th>27445</th>\n",
       "      <td>3117246</td>\n",
       "      <td>536155060</td>\n",
       "      <td>2019-09-26</td>\n",
       "      <td>190308651</td>\n",
       "      <td>Ιωάννης</td>\n",
       "      <td>NaN</td>\n",
       "    </tr>\n",
       "    <tr>\n",
       "      <th>29666</th>\n",
       "      <td>3431705</td>\n",
       "      <td>408390363669712904</td>\n",
       "      <td>2021-07-17</td>\n",
       "      <td>344782537</td>\n",
       "      <td>Cosima</td>\n",
       "      <td>NaN</td>\n",
       "    </tr>\n",
       "    <tr>\n",
       "      <th>33414</th>\n",
       "      <td>4245658</td>\n",
       "      <td>273166480</td>\n",
       "      <td>2018-06-05</td>\n",
       "      <td>15352587</td>\n",
       "      <td>Alex</td>\n",
       "      <td>NaN</td>\n",
       "    </tr>\n",
       "    <tr>\n",
       "      <th>34479</th>\n",
       "      <td>4443443</td>\n",
       "      <td>702927635</td>\n",
       "      <td>2020-10-23</td>\n",
       "      <td>142932343</td>\n",
       "      <td>Sergej</td>\n",
       "      <td>NaN</td>\n",
       "    </tr>\n",
       "    <tr>\n",
       "      <th>...</th>\n",
       "      <td>...</td>\n",
       "      <td>...</td>\n",
       "      <td>...</td>\n",
       "      <td>...</td>\n",
       "      <td>...</td>\n",
       "      <td>...</td>\n",
       "    </tr>\n",
       "    <tr>\n",
       "      <th>104701</th>\n",
       "      <td>50870387</td>\n",
       "      <td>464974515212855632</td>\n",
       "      <td>2021-10-03</td>\n",
       "      <td>14890280</td>\n",
       "      <td>Martine</td>\n",
       "      <td>NaN</td>\n",
       "    </tr>\n",
       "    <tr>\n",
       "      <th>104961</th>\n",
       "      <td>50964566</td>\n",
       "      <td>434507705277780250</td>\n",
       "      <td>2021-08-22</td>\n",
       "      <td>141694244</td>\n",
       "      <td>Alfred</td>\n",
       "      <td>NaN</td>\n",
       "    </tr>\n",
       "    <tr>\n",
       "      <th>105863</th>\n",
       "      <td>51387905</td>\n",
       "      <td>431580647027475196</td>\n",
       "      <td>2021-08-18</td>\n",
       "      <td>407884103</td>\n",
       "      <td>Γεωργια</td>\n",
       "      <td>NaN</td>\n",
       "    </tr>\n",
       "    <tr>\n",
       "      <th>106232</th>\n",
       "      <td>51729011</td>\n",
       "      <td>442531781646404185</td>\n",
       "      <td>2021-09-02</td>\n",
       "      <td>380942310</td>\n",
       "      <td>Γιωργος</td>\n",
       "      <td>NaN</td>\n",
       "    </tr>\n",
       "    <tr>\n",
       "      <th>106545</th>\n",
       "      <td>52450417</td>\n",
       "      <td>459907833413087828</td>\n",
       "      <td>2021-09-26</td>\n",
       "      <td>380942310</td>\n",
       "      <td>Γιωργος</td>\n",
       "      <td>NaN</td>\n",
       "    </tr>\n",
       "  </tbody>\n",
       "</table>\n",
       "<p>407 rows × 6 columns</p>\n",
       "</div>"
      ],
      "text/plain": [
       "        listing_id                  id        date  reviewer_id  \\\n",
       "12637      1094063           141658642  2017-04-04     94260523   \n",
       "27445      3117246           536155060  2019-09-26    190308651   \n",
       "29666      3431705  408390363669712904  2021-07-17    344782537   \n",
       "33414      4245658           273166480  2018-06-05     15352587   \n",
       "34479      4443443           702927635  2020-10-23    142932343   \n",
       "...            ...                 ...         ...          ...   \n",
       "104701    50870387  464974515212855632  2021-10-03     14890280   \n",
       "104961    50964566  434507705277780250  2021-08-22    141694244   \n",
       "105863    51387905  431580647027475196  2021-08-18    407884103   \n",
       "106232    51729011  442531781646404185  2021-09-02    380942310   \n",
       "106545    52450417  459907833413087828  2021-09-26    380942310   \n",
       "\n",
       "          reviewer_name comments  \n",
       "12637   Mihnea Cristian      NaN  \n",
       "27445           Ιωάννης      NaN  \n",
       "29666            Cosima      NaN  \n",
       "33414              Alex      NaN  \n",
       "34479            Sergej      NaN  \n",
       "...                 ...      ...  \n",
       "104701          Martine      NaN  \n",
       "104961           Alfred      NaN  \n",
       "105863          Γεωργια      NaN  \n",
       "106232          Γιωργος      NaN  \n",
       "106545          Γιωργος      NaN  \n",
       "\n",
       "[407 rows x 6 columns]"
      ]
     },
     "execution_count": 7,
     "metadata": {},
     "output_type": "execute_result"
    }
   ],
   "source": [
    "reviews[reviews['comments'].isnull()]"
   ]
  },
  {
   "cell_type": "markdown",
   "metadata": {},
   "source": [
    "We are going to delete theese rows because they have no use and they are only 0.1% of rows of the whole dataset"
   ]
  },
  {
   "cell_type": "code",
   "execution_count": 8,
   "metadata": {},
   "outputs": [],
   "source": [
    "reviews = reviews[reviews['comments'].notna()]"
   ]
  },
  {
   "cell_type": "markdown",
   "metadata": {},
   "source": [
    "Check that rows are deleted and that there are no more NaN values in the dataframe"
   ]
  },
  {
   "cell_type": "code",
   "execution_count": 9,
   "metadata": {},
   "outputs": [
    {
     "name": "stdout",
     "output_type": "stream",
     "text": [
      "406200\n",
      "0\n"
     ]
    }
   ],
   "source": [
    "print(len(reviews))\n",
    "print(reviews.isnull().any(axis=1).sum())"
   ]
  },
  {
   "cell_type": "markdown",
   "metadata": {},
   "source": [
    "We print listings dataframe summary statistics on each attribute."
   ]
  },
  {
   "cell_type": "code",
   "execution_count": 10,
   "metadata": {},
   "outputs": [
    {
     "data": {
      "text/html": [
       "<div>\n",
       "<style scoped>\n",
       "    .dataframe tbody tr th:only-of-type {\n",
       "        vertical-align: middle;\n",
       "    }\n",
       "\n",
       "    .dataframe tbody tr th {\n",
       "        vertical-align: top;\n",
       "    }\n",
       "\n",
       "    .dataframe thead th {\n",
       "        text-align: right;\n",
       "    }\n",
       "</style>\n",
       "<table border=\"1\" class=\"dataframe\">\n",
       "  <thead>\n",
       "    <tr style=\"text-align: right;\">\n",
       "      <th></th>\n",
       "      <th>id</th>\n",
       "      <th>scrape_id</th>\n",
       "      <th>host_id</th>\n",
       "      <th>host_listings_count</th>\n",
       "      <th>host_total_listings_count</th>\n",
       "      <th>neighbourhood_group_cleansed</th>\n",
       "      <th>latitude</th>\n",
       "      <th>longitude</th>\n",
       "      <th>accommodates</th>\n",
       "      <th>bathrooms</th>\n",
       "      <th>...</th>\n",
       "      <th>availability_90</th>\n",
       "      <th>availability_365</th>\n",
       "      <th>number_of_reviews</th>\n",
       "      <th>number_of_reviews_ltm</th>\n",
       "      <th>number_of_reviews_l30d</th>\n",
       "      <th>calculated_host_listings_count</th>\n",
       "      <th>calculated_host_listings_count_entire_homes</th>\n",
       "      <th>calculated_host_listings_count_private_rooms</th>\n",
       "      <th>calculated_host_listings_count_shared_rooms</th>\n",
       "      <th>reviews_per_month</th>\n",
       "    </tr>\n",
       "  </thead>\n",
       "  <tbody>\n",
       "    <tr>\n",
       "      <th>count</th>\n",
       "      <td>9.582000e+03</td>\n",
       "      <td>9.582000e+03</td>\n",
       "      <td>9.582000e+03</td>\n",
       "      <td>9579.000000</td>\n",
       "      <td>9579.000000</td>\n",
       "      <td>0.0</td>\n",
       "      <td>9582.000000</td>\n",
       "      <td>9582.000000</td>\n",
       "      <td>9582.000000</td>\n",
       "      <td>0.0</td>\n",
       "      <td>...</td>\n",
       "      <td>9582.000000</td>\n",
       "      <td>9582.000000</td>\n",
       "      <td>9582.000000</td>\n",
       "      <td>9582.000000</td>\n",
       "      <td>9582.00000</td>\n",
       "      <td>9582.000000</td>\n",
       "      <td>9582.000000</td>\n",
       "      <td>9582.000000</td>\n",
       "      <td>9582.000000</td>\n",
       "      <td>7874.000000</td>\n",
       "    </tr>\n",
       "    <tr>\n",
       "      <th>mean</th>\n",
       "      <td>3.189967e+07</td>\n",
       "      <td>2.021103e+13</td>\n",
       "      <td>1.437052e+08</td>\n",
       "      <td>17.809375</td>\n",
       "      <td>17.809375</td>\n",
       "      <td>NaN</td>\n",
       "      <td>37.979937</td>\n",
       "      <td>23.731852</td>\n",
       "      <td>3.829159</td>\n",
       "      <td>NaN</td>\n",
       "      <td>...</td>\n",
       "      <td>53.227719</td>\n",
       "      <td>230.261010</td>\n",
       "      <td>42.434460</td>\n",
       "      <td>8.671885</td>\n",
       "      <td>1.14068</td>\n",
       "      <td>11.083072</td>\n",
       "      <td>9.933312</td>\n",
       "      <td>0.920685</td>\n",
       "      <td>0.097683</td>\n",
       "      <td>1.860970</td>\n",
       "    </tr>\n",
       "    <tr>\n",
       "      <th>std</th>\n",
       "      <td>1.331709e+07</td>\n",
       "      <td>5.019793e+00</td>\n",
       "      <td>1.153289e+08</td>\n",
       "      <td>60.121461</td>\n",
       "      <td>60.121461</td>\n",
       "      <td>NaN</td>\n",
       "      <td>0.013226</td>\n",
       "      <td>0.012372</td>\n",
       "      <td>1.959972</td>\n",
       "      <td>NaN</td>\n",
       "      <td>...</td>\n",
       "      <td>33.765424</td>\n",
       "      <td>130.262062</td>\n",
       "      <td>69.982756</td>\n",
       "      <td>14.536008</td>\n",
       "      <td>1.92865</td>\n",
       "      <td>23.451291</td>\n",
       "      <td>23.081999</td>\n",
       "      <td>4.082871</td>\n",
       "      <td>1.015924</td>\n",
       "      <td>2.049245</td>\n",
       "    </tr>\n",
       "    <tr>\n",
       "      <th>min</th>\n",
       "      <td>1.059500e+04</td>\n",
       "      <td>2.021103e+13</td>\n",
       "      <td>3.717700e+04</td>\n",
       "      <td>0.000000</td>\n",
       "      <td>0.000000</td>\n",
       "      <td>NaN</td>\n",
       "      <td>37.950550</td>\n",
       "      <td>23.697700</td>\n",
       "      <td>1.000000</td>\n",
       "      <td>NaN</td>\n",
       "      <td>...</td>\n",
       "      <td>0.000000</td>\n",
       "      <td>0.000000</td>\n",
       "      <td>0.000000</td>\n",
       "      <td>0.000000</td>\n",
       "      <td>0.00000</td>\n",
       "      <td>1.000000</td>\n",
       "      <td>0.000000</td>\n",
       "      <td>0.000000</td>\n",
       "      <td>0.000000</td>\n",
       "      <td>0.010000</td>\n",
       "    </tr>\n",
       "    <tr>\n",
       "      <th>25%</th>\n",
       "      <td>2.251695e+07</td>\n",
       "      <td>2.021103e+13</td>\n",
       "      <td>3.849921e+07</td>\n",
       "      <td>1.000000</td>\n",
       "      <td>1.000000</td>\n",
       "      <td>NaN</td>\n",
       "      <td>37.969223</td>\n",
       "      <td>23.724032</td>\n",
       "      <td>2.000000</td>\n",
       "      <td>NaN</td>\n",
       "      <td>...</td>\n",
       "      <td>22.000000</td>\n",
       "      <td>117.000000</td>\n",
       "      <td>2.000000</td>\n",
       "      <td>0.000000</td>\n",
       "      <td>0.00000</td>\n",
       "      <td>1.000000</td>\n",
       "      <td>1.000000</td>\n",
       "      <td>0.000000</td>\n",
       "      <td>0.000000</td>\n",
       "      <td>0.430000</td>\n",
       "    </tr>\n",
       "    <tr>\n",
       "      <th>50%</th>\n",
       "      <td>3.278173e+07</td>\n",
       "      <td>2.021103e+13</td>\n",
       "      <td>1.288502e+08</td>\n",
       "      <td>3.000000</td>\n",
       "      <td>3.000000</td>\n",
       "      <td>NaN</td>\n",
       "      <td>37.978386</td>\n",
       "      <td>23.729830</td>\n",
       "      <td>4.000000</td>\n",
       "      <td>NaN</td>\n",
       "      <td>...</td>\n",
       "      <td>66.000000</td>\n",
       "      <td>283.000000</td>\n",
       "      <td>12.000000</td>\n",
       "      <td>2.000000</td>\n",
       "      <td>0.00000</td>\n",
       "      <td>3.000000</td>\n",
       "      <td>2.000000</td>\n",
       "      <td>0.000000</td>\n",
       "      <td>0.000000</td>\n",
       "      <td>1.200000</td>\n",
       "    </tr>\n",
       "    <tr>\n",
       "      <th>75%</th>\n",
       "      <td>4.264848e+07</td>\n",
       "      <td>2.021103e+13</td>\n",
       "      <td>2.244519e+08</td>\n",
       "      <td>11.000000</td>\n",
       "      <td>11.000000</td>\n",
       "      <td>NaN</td>\n",
       "      <td>37.987960</td>\n",
       "      <td>23.737930</td>\n",
       "      <td>4.000000</td>\n",
       "      <td>NaN</td>\n",
       "      <td>...</td>\n",
       "      <td>83.000000</td>\n",
       "      <td>350.000000</td>\n",
       "      <td>52.000000</td>\n",
       "      <td>12.000000</td>\n",
       "      <td>2.00000</td>\n",
       "      <td>9.000000</td>\n",
       "      <td>8.000000</td>\n",
       "      <td>0.000000</td>\n",
       "      <td>0.000000</td>\n",
       "      <td>2.640000</td>\n",
       "    </tr>\n",
       "    <tr>\n",
       "      <th>max</th>\n",
       "      <td>5.296030e+07</td>\n",
       "      <td>2.021103e+13</td>\n",
       "      <td>4.281993e+08</td>\n",
       "      <td>2095.000000</td>\n",
       "      <td>2095.000000</td>\n",
       "      <td>NaN</td>\n",
       "      <td>38.032430</td>\n",
       "      <td>23.780220</td>\n",
       "      <td>16.000000</td>\n",
       "      <td>NaN</td>\n",
       "      <td>...</td>\n",
       "      <td>90.000000</td>\n",
       "      <td>365.000000</td>\n",
       "      <td>745.000000</td>\n",
       "      <td>346.000000</td>\n",
       "      <td>20.00000</td>\n",
       "      <td>156.000000</td>\n",
       "      <td>156.000000</td>\n",
       "      <td>43.000000</td>\n",
       "      <td>14.000000</td>\n",
       "      <td>28.000000</td>\n",
       "    </tr>\n",
       "  </tbody>\n",
       "</table>\n",
       "<p>8 rows × 33 columns</p>\n",
       "</div>"
      ],
      "text/plain": [
       "                 id     scrape_id       host_id  host_listings_count  \\\n",
       "count  9.582000e+03  9.582000e+03  9.582000e+03          9579.000000   \n",
       "mean   3.189967e+07  2.021103e+13  1.437052e+08            17.809375   \n",
       "std    1.331709e+07  5.019793e+00  1.153289e+08            60.121461   \n",
       "min    1.059500e+04  2.021103e+13  3.717700e+04             0.000000   \n",
       "25%    2.251695e+07  2.021103e+13  3.849921e+07             1.000000   \n",
       "50%    3.278173e+07  2.021103e+13  1.288502e+08             3.000000   \n",
       "75%    4.264848e+07  2.021103e+13  2.244519e+08            11.000000   \n",
       "max    5.296030e+07  2.021103e+13  4.281993e+08          2095.000000   \n",
       "\n",
       "       host_total_listings_count  neighbourhood_group_cleansed     latitude  \\\n",
       "count                9579.000000                           0.0  9582.000000   \n",
       "mean                   17.809375                           NaN    37.979937   \n",
       "std                    60.121461                           NaN     0.013226   \n",
       "min                     0.000000                           NaN    37.950550   \n",
       "25%                     1.000000                           NaN    37.969223   \n",
       "50%                     3.000000                           NaN    37.978386   \n",
       "75%                    11.000000                           NaN    37.987960   \n",
       "max                  2095.000000                           NaN    38.032430   \n",
       "\n",
       "         longitude  accommodates  bathrooms  ...  availability_90  \\\n",
       "count  9582.000000   9582.000000        0.0  ...      9582.000000   \n",
       "mean     23.731852      3.829159        NaN  ...        53.227719   \n",
       "std       0.012372      1.959972        NaN  ...        33.765424   \n",
       "min      23.697700      1.000000        NaN  ...         0.000000   \n",
       "25%      23.724032      2.000000        NaN  ...        22.000000   \n",
       "50%      23.729830      4.000000        NaN  ...        66.000000   \n",
       "75%      23.737930      4.000000        NaN  ...        83.000000   \n",
       "max      23.780220     16.000000        NaN  ...        90.000000   \n",
       "\n",
       "       availability_365  number_of_reviews  number_of_reviews_ltm  \\\n",
       "count       9582.000000        9582.000000            9582.000000   \n",
       "mean         230.261010          42.434460               8.671885   \n",
       "std          130.262062          69.982756              14.536008   \n",
       "min            0.000000           0.000000               0.000000   \n",
       "25%          117.000000           2.000000               0.000000   \n",
       "50%          283.000000          12.000000               2.000000   \n",
       "75%          350.000000          52.000000              12.000000   \n",
       "max          365.000000         745.000000             346.000000   \n",
       "\n",
       "       number_of_reviews_l30d  calculated_host_listings_count  \\\n",
       "count              9582.00000                     9582.000000   \n",
       "mean                  1.14068                       11.083072   \n",
       "std                   1.92865                       23.451291   \n",
       "min                   0.00000                        1.000000   \n",
       "25%                   0.00000                        1.000000   \n",
       "50%                   0.00000                        3.000000   \n",
       "75%                   2.00000                        9.000000   \n",
       "max                  20.00000                      156.000000   \n",
       "\n",
       "       calculated_host_listings_count_entire_homes  \\\n",
       "count                                  9582.000000   \n",
       "mean                                      9.933312   \n",
       "std                                      23.081999   \n",
       "min                                       0.000000   \n",
       "25%                                       1.000000   \n",
       "50%                                       2.000000   \n",
       "75%                                       8.000000   \n",
       "max                                     156.000000   \n",
       "\n",
       "       calculated_host_listings_count_private_rooms  \\\n",
       "count                                   9582.000000   \n",
       "mean                                       0.920685   \n",
       "std                                        4.082871   \n",
       "min                                        0.000000   \n",
       "25%                                        0.000000   \n",
       "50%                                        0.000000   \n",
       "75%                                        0.000000   \n",
       "max                                       43.000000   \n",
       "\n",
       "       calculated_host_listings_count_shared_rooms  reviews_per_month  \n",
       "count                                  9582.000000        7874.000000  \n",
       "mean                                      0.097683           1.860970  \n",
       "std                                       1.015924           2.049245  \n",
       "min                                       0.000000           0.010000  \n",
       "25%                                       0.000000           0.430000  \n",
       "50%                                       0.000000           1.200000  \n",
       "75%                                       0.000000           2.640000  \n",
       "max                                      14.000000          28.000000  \n",
       "\n",
       "[8 rows x 33 columns]"
      ]
     },
     "execution_count": 10,
     "metadata": {},
     "output_type": "execute_result"
    }
   ],
   "source": [
    "listings.describe()"
   ]
  },
  {
   "cell_type": "markdown",
   "metadata": {},
   "source": [
    "We can see that there are columns that have a minimum value of zero (0). On some columns, a value of zero maybe does not make sense and indicates an invalid or missing value. We can also see NaN values that we may have to handle"
   ]
  },
  {
   "cell_type": "code",
   "execution_count": 11,
   "metadata": {},
   "outputs": [
    {
     "data": {
      "text/html": [
       "<div>\n",
       "<style scoped>\n",
       "    .dataframe tbody tr th:only-of-type {\n",
       "        vertical-align: middle;\n",
       "    }\n",
       "\n",
       "    .dataframe tbody tr th {\n",
       "        vertical-align: top;\n",
       "    }\n",
       "\n",
       "    .dataframe thead th {\n",
       "        text-align: right;\n",
       "    }\n",
       "</style>\n",
       "<table border=\"1\" class=\"dataframe\">\n",
       "  <thead>\n",
       "    <tr style=\"text-align: right;\">\n",
       "      <th></th>\n",
       "      <th>id</th>\n",
       "      <th>listing_url</th>\n",
       "      <th>scrape_id</th>\n",
       "      <th>last_scraped</th>\n",
       "      <th>name</th>\n",
       "      <th>description</th>\n",
       "      <th>neighborhood_overview</th>\n",
       "      <th>picture_url</th>\n",
       "      <th>host_id</th>\n",
       "      <th>host_url</th>\n",
       "      <th>...</th>\n",
       "      <th>number_of_reviews_l30d</th>\n",
       "      <th>first_review</th>\n",
       "      <th>last_review</th>\n",
       "      <th>license</th>\n",
       "      <th>instant_bookable</th>\n",
       "      <th>calculated_host_listings_count</th>\n",
       "      <th>calculated_host_listings_count_entire_homes</th>\n",
       "      <th>calculated_host_listings_count_private_rooms</th>\n",
       "      <th>calculated_host_listings_count_shared_rooms</th>\n",
       "      <th>reviews_per_month</th>\n",
       "    </tr>\n",
       "  </thead>\n",
       "  <tbody>\n",
       "    <tr>\n",
       "      <th>0</th>\n",
       "      <td>10595</td>\n",
       "      <td>https://www.airbnb.com/rooms/10595</td>\n",
       "      <td>20211025162728</td>\n",
       "      <td>2021-10-26</td>\n",
       "      <td>96m2, 3BR, 2BA, Metro, WI-FI etc...</td>\n",
       "      <td>Athens Furnished Apartment No6 is 3-bedroom ap...</td>\n",
       "      <td>Ampelokipi district is nice multinational and ...</td>\n",
       "      <td>https://a0.muscache.com/pictures/f7e19a44-5afe...</td>\n",
       "      <td>37177</td>\n",
       "      <td>https://www.airbnb.com/users/show/37177</td>\n",
       "      <td>...</td>\n",
       "      <td>0</td>\n",
       "      <td>2015-05-25</td>\n",
       "      <td>2019-04-04</td>\n",
       "      <td>00000957568</td>\n",
       "      <td>t</td>\n",
       "      <td>6</td>\n",
       "      <td>6</td>\n",
       "      <td>0</td>\n",
       "      <td>0</td>\n",
       "      <td>0.41</td>\n",
       "    </tr>\n",
       "    <tr>\n",
       "      <th>1</th>\n",
       "      <td>10990</td>\n",
       "      <td>https://www.airbnb.com/rooms/10990</td>\n",
       "      <td>20211025162728</td>\n",
       "      <td>2021-10-25</td>\n",
       "      <td>Athens Quality Apartments - Deluxe Apartment</td>\n",
       "      <td>Athens Quality Apartments - Deluxe apartment i...</td>\n",
       "      <td>Ampelokipi district is nice multinational and ...</td>\n",
       "      <td>https://a0.muscache.com/pictures/8645179/c1728...</td>\n",
       "      <td>37177</td>\n",
       "      <td>https://www.airbnb.com/users/show/37177</td>\n",
       "      <td>...</td>\n",
       "      <td>1</td>\n",
       "      <td>2015-11-25</td>\n",
       "      <td>2016-02-22</td>\n",
       "      <td>00001070920</td>\n",
       "      <td>t</td>\n",
       "      <td>6</td>\n",
       "      <td>6</td>\n",
       "      <td>0</td>\n",
       "      <td>0</td>\n",
       "      <td>0.72</td>\n",
       "    </tr>\n",
       "    <tr>\n",
       "      <th>2</th>\n",
       "      <td>10993</td>\n",
       "      <td>https://www.airbnb.com/rooms/10993</td>\n",
       "      <td>20211025162728</td>\n",
       "      <td>2021-10-25</td>\n",
       "      <td>Athens Quality Apartments - Studio</td>\n",
       "      <td>The Studio is an &lt;br /&gt;-excellent located &lt;br ...</td>\n",
       "      <td>Ampelokipi district is nice multinational and ...</td>\n",
       "      <td>https://a0.muscache.com/pictures/107309527/848...</td>\n",
       "      <td>37177</td>\n",
       "      <td>https://www.airbnb.com/users/show/37177</td>\n",
       "      <td>...</td>\n",
       "      <td>3</td>\n",
       "      <td>2015-10-18</td>\n",
       "      <td>2018-03-31</td>\n",
       "      <td>00000957080</td>\n",
       "      <td>t</td>\n",
       "      <td>6</td>\n",
       "      <td>6</td>\n",
       "      <td>0</td>\n",
       "      <td>0</td>\n",
       "      <td>0.97</td>\n",
       "    </tr>\n",
       "    <tr>\n",
       "      <th>3</th>\n",
       "      <td>10995</td>\n",
       "      <td>https://www.airbnb.com/rooms/10995</td>\n",
       "      <td>20211025162728</td>\n",
       "      <td>2021-10-25</td>\n",
       "      <td>AQA-No2 1-bedroom, smart tv, fiber connection,</td>\n",
       "      <td>AQA No2 is 1-bedroom apartment (47m2), on the ...</td>\n",
       "      <td>Ampelokipi district is nice multinational and ...</td>\n",
       "      <td>https://a0.muscache.com/pictures/6a565613-aaa3...</td>\n",
       "      <td>37177</td>\n",
       "      <td>https://www.airbnb.com/users/show/37177</td>\n",
       "      <td>...</td>\n",
       "      <td>0</td>\n",
       "      <td>2015-12-05</td>\n",
       "      <td>2016-08-06</td>\n",
       "      <td>00000957422</td>\n",
       "      <td>t</td>\n",
       "      <td>6</td>\n",
       "      <td>6</td>\n",
       "      <td>0</td>\n",
       "      <td>0</td>\n",
       "      <td>0.33</td>\n",
       "    </tr>\n",
       "    <tr>\n",
       "      <th>4</th>\n",
       "      <td>27262</td>\n",
       "      <td>https://www.airbnb.com/rooms/27262</td>\n",
       "      <td>20211025162728</td>\n",
       "      <td>2021-10-26</td>\n",
       "      <td>54m2, 1-br, cable tv, wi-fi, metro</td>\n",
       "      <td>Big 1-bedroom apartment that can accommodate 4...</td>\n",
       "      <td>NaN</td>\n",
       "      <td>https://a0.muscache.com/pictures/8651803/4b82b...</td>\n",
       "      <td>37177</td>\n",
       "      <td>https://www.airbnb.com/users/show/37177</td>\n",
       "      <td>...</td>\n",
       "      <td>0</td>\n",
       "      <td>2015-11-12</td>\n",
       "      <td>2017-05-15</td>\n",
       "      <td>00000957579</td>\n",
       "      <td>t</td>\n",
       "      <td>6</td>\n",
       "      <td>6</td>\n",
       "      <td>0</td>\n",
       "      <td>0</td>\n",
       "      <td>0.23</td>\n",
       "    </tr>\n",
       "    <tr>\n",
       "      <th>5</th>\n",
       "      <td>28186</td>\n",
       "      <td>https://www.airbnb.com/rooms/28186</td>\n",
       "      <td>20211025162728</td>\n",
       "      <td>2021-10-26</td>\n",
       "      <td>❤️Deluxe central loft near Acropolis❤️</td>\n",
       "      <td>TOP 5 REASONS to stay here&lt;br /&gt;⭐️Don't waste ...</td>\n",
       "      <td>Don't look any further. &lt;br /&gt;This is, by far,...</td>\n",
       "      <td>https://a0.muscache.com/pictures/5471146/99f09...</td>\n",
       "      <td>121318</td>\n",
       "      <td>https://www.airbnb.com/users/show/121318</td>\n",
       "      <td>...</td>\n",
       "      <td>1</td>\n",
       "      <td>2013-08-12</td>\n",
       "      <td>2021-09-08</td>\n",
       "      <td>00000264915</td>\n",
       "      <td>f</td>\n",
       "      <td>2</td>\n",
       "      <td>2</td>\n",
       "      <td>0</td>\n",
       "      <td>0</td>\n",
       "      <td>4.65</td>\n",
       "    </tr>\n",
       "    <tr>\n",
       "      <th>6</th>\n",
       "      <td>31155</td>\n",
       "      <td>https://www.airbnb.com/rooms/31155</td>\n",
       "      <td>20211025162728</td>\n",
       "      <td>2021-10-25</td>\n",
       "      <td>sleep on sailing boat</td>\n",
       "      <td>Sleeping on a boat is the ultimate glamping ex...</td>\n",
       "      <td>NaN</td>\n",
       "      <td>https://a0.muscache.com/pictures/531153/542d3e...</td>\n",
       "      <td>133845</td>\n",
       "      <td>https://www.airbnb.com/users/show/133845</td>\n",
       "      <td>...</td>\n",
       "      <td>0</td>\n",
       "      <td>NaN</td>\n",
       "      <td>NaN</td>\n",
       "      <td>NaN</td>\n",
       "      <td>f</td>\n",
       "      <td>1</td>\n",
       "      <td>0</td>\n",
       "      <td>1</td>\n",
       "      <td>0</td>\n",
       "      <td>NaN</td>\n",
       "    </tr>\n",
       "    <tr>\n",
       "      <th>7</th>\n",
       "      <td>33945</td>\n",
       "      <td>https://www.airbnb.com/rooms/33945</td>\n",
       "      <td>20211025162728</td>\n",
       "      <td>2021-10-26</td>\n",
       "      <td>Spacious Cosy aprtm very close to Metro!</td>\n",
       "      <td>Apartment located near metro station. Safe nei...</td>\n",
       "      <td>Neighbourhood is alive all day and safe all da...</td>\n",
       "      <td>https://a0.muscache.com/pictures/1a7a1026-f5f1...</td>\n",
       "      <td>146553</td>\n",
       "      <td>https://www.airbnb.com/users/show/146553</td>\n",
       "      <td>...</td>\n",
       "      <td>0</td>\n",
       "      <td>2015-08-04</td>\n",
       "      <td>2017-07-14</td>\n",
       "      <td>NaN</td>\n",
       "      <td>f</td>\n",
       "      <td>2</td>\n",
       "      <td>2</td>\n",
       "      <td>0</td>\n",
       "      <td>0</td>\n",
       "      <td>0.94</td>\n",
       "    </tr>\n",
       "    <tr>\n",
       "      <th>8</th>\n",
       "      <td>49489</td>\n",
       "      <td>https://www.airbnb.com/rooms/49489</td>\n",
       "      <td>20211025162728</td>\n",
       "      <td>2021-10-26</td>\n",
       "      <td>3bdr apt in the heart of Athens</td>\n",
       "      <td>Fully furnished, 98 sq.mt., apartment on 44 Er...</td>\n",
       "      <td>The apartment is located at the commercial cen...</td>\n",
       "      <td>https://a0.muscache.com/pictures/9640239/4bfd2...</td>\n",
       "      <td>225612</td>\n",
       "      <td>https://www.airbnb.com/users/show/225612</td>\n",
       "      <td>...</td>\n",
       "      <td>0</td>\n",
       "      <td>2014-12-14</td>\n",
       "      <td>2018-08-28</td>\n",
       "      <td>00000876484</td>\n",
       "      <td>t</td>\n",
       "      <td>1</td>\n",
       "      <td>1</td>\n",
       "      <td>0</td>\n",
       "      <td>0</td>\n",
       "      <td>1.45</td>\n",
       "    </tr>\n",
       "    <tr>\n",
       "      <th>9</th>\n",
       "      <td>54637</td>\n",
       "      <td>https://www.airbnb.com/rooms/54637</td>\n",
       "      <td>20211025162728</td>\n",
       "      <td>2021-10-25</td>\n",
       "      <td>Penthouse Parthenon view in Athens</td>\n",
       "      <td>Art penthouse, with a stunnng view in Acropoli...</td>\n",
       "      <td>NaN</td>\n",
       "      <td>https://a0.muscache.com/pictures/5c9190e4-8660...</td>\n",
       "      <td>256676</td>\n",
       "      <td>https://www.airbnb.com/users/show/256676</td>\n",
       "      <td>...</td>\n",
       "      <td>0</td>\n",
       "      <td>2014-08-10</td>\n",
       "      <td>2018-02-01</td>\n",
       "      <td>NaN</td>\n",
       "      <td>f</td>\n",
       "      <td>1</td>\n",
       "      <td>1</td>\n",
       "      <td>0</td>\n",
       "      <td>0</td>\n",
       "      <td>0.03</td>\n",
       "    </tr>\n",
       "  </tbody>\n",
       "</table>\n",
       "<p>10 rows × 67 columns</p>\n",
       "</div>"
      ],
      "text/plain": [
       "      id                         listing_url       scrape_id last_scraped  \\\n",
       "0  10595  https://www.airbnb.com/rooms/10595  20211025162728   2021-10-26   \n",
       "1  10990  https://www.airbnb.com/rooms/10990  20211025162728   2021-10-25   \n",
       "2  10993  https://www.airbnb.com/rooms/10993  20211025162728   2021-10-25   \n",
       "3  10995  https://www.airbnb.com/rooms/10995  20211025162728   2021-10-25   \n",
       "4  27262  https://www.airbnb.com/rooms/27262  20211025162728   2021-10-26   \n",
       "5  28186  https://www.airbnb.com/rooms/28186  20211025162728   2021-10-26   \n",
       "6  31155  https://www.airbnb.com/rooms/31155  20211025162728   2021-10-25   \n",
       "7  33945  https://www.airbnb.com/rooms/33945  20211025162728   2021-10-26   \n",
       "8  49489  https://www.airbnb.com/rooms/49489  20211025162728   2021-10-26   \n",
       "9  54637  https://www.airbnb.com/rooms/54637  20211025162728   2021-10-25   \n",
       "\n",
       "                                             name  \\\n",
       "0             96m2, 3BR, 2BA, Metro, WI-FI etc...   \n",
       "1    Athens Quality Apartments - Deluxe Apartment   \n",
       "2              Athens Quality Apartments - Studio   \n",
       "3  AQA-No2 1-bedroom, smart tv, fiber connection,   \n",
       "4              54m2, 1-br, cable tv, wi-fi, metro   \n",
       "5          ❤️Deluxe central loft near Acropolis❤️   \n",
       "6                           sleep on sailing boat   \n",
       "7        Spacious Cosy aprtm very close to Metro!   \n",
       "8                 3bdr apt in the heart of Athens   \n",
       "9              Penthouse Parthenon view in Athens   \n",
       "\n",
       "                                         description  \\\n",
       "0  Athens Furnished Apartment No6 is 3-bedroom ap...   \n",
       "1  Athens Quality Apartments - Deluxe apartment i...   \n",
       "2  The Studio is an <br />-excellent located <br ...   \n",
       "3  AQA No2 is 1-bedroom apartment (47m2), on the ...   \n",
       "4  Big 1-bedroom apartment that can accommodate 4...   \n",
       "5  TOP 5 REASONS to stay here<br />⭐️Don't waste ...   \n",
       "6  Sleeping on a boat is the ultimate glamping ex...   \n",
       "7  Apartment located near metro station. Safe nei...   \n",
       "8  Fully furnished, 98 sq.mt., apartment on 44 Er...   \n",
       "9  Art penthouse, with a stunnng view in Acropoli...   \n",
       "\n",
       "                               neighborhood_overview  \\\n",
       "0  Ampelokipi district is nice multinational and ...   \n",
       "1  Ampelokipi district is nice multinational and ...   \n",
       "2  Ampelokipi district is nice multinational and ...   \n",
       "3  Ampelokipi district is nice multinational and ...   \n",
       "4                                                NaN   \n",
       "5  Don't look any further. <br />This is, by far,...   \n",
       "6                                                NaN   \n",
       "7  Neighbourhood is alive all day and safe all da...   \n",
       "8  The apartment is located at the commercial cen...   \n",
       "9                                                NaN   \n",
       "\n",
       "                                         picture_url  host_id  \\\n",
       "0  https://a0.muscache.com/pictures/f7e19a44-5afe...    37177   \n",
       "1  https://a0.muscache.com/pictures/8645179/c1728...    37177   \n",
       "2  https://a0.muscache.com/pictures/107309527/848...    37177   \n",
       "3  https://a0.muscache.com/pictures/6a565613-aaa3...    37177   \n",
       "4  https://a0.muscache.com/pictures/8651803/4b82b...    37177   \n",
       "5  https://a0.muscache.com/pictures/5471146/99f09...   121318   \n",
       "6  https://a0.muscache.com/pictures/531153/542d3e...   133845   \n",
       "7  https://a0.muscache.com/pictures/1a7a1026-f5f1...   146553   \n",
       "8  https://a0.muscache.com/pictures/9640239/4bfd2...   225612   \n",
       "9  https://a0.muscache.com/pictures/5c9190e4-8660...   256676   \n",
       "\n",
       "                                   host_url  ... number_of_reviews_l30d  \\\n",
       "0   https://www.airbnb.com/users/show/37177  ...                      0   \n",
       "1   https://www.airbnb.com/users/show/37177  ...                      1   \n",
       "2   https://www.airbnb.com/users/show/37177  ...                      3   \n",
       "3   https://www.airbnb.com/users/show/37177  ...                      0   \n",
       "4   https://www.airbnb.com/users/show/37177  ...                      0   \n",
       "5  https://www.airbnb.com/users/show/121318  ...                      1   \n",
       "6  https://www.airbnb.com/users/show/133845  ...                      0   \n",
       "7  https://www.airbnb.com/users/show/146553  ...                      0   \n",
       "8  https://www.airbnb.com/users/show/225612  ...                      0   \n",
       "9  https://www.airbnb.com/users/show/256676  ...                      0   \n",
       "\n",
       "  first_review last_review      license instant_bookable  \\\n",
       "0   2015-05-25  2019-04-04  00000957568                t   \n",
       "1   2015-11-25  2016-02-22  00001070920                t   \n",
       "2   2015-10-18  2018-03-31  00000957080                t   \n",
       "3   2015-12-05  2016-08-06  00000957422                t   \n",
       "4   2015-11-12  2017-05-15  00000957579                t   \n",
       "5   2013-08-12  2021-09-08  00000264915                f   \n",
       "6          NaN         NaN          NaN                f   \n",
       "7   2015-08-04  2017-07-14          NaN                f   \n",
       "8   2014-12-14  2018-08-28  00000876484                t   \n",
       "9   2014-08-10  2018-02-01          NaN                f   \n",
       "\n",
       "  calculated_host_listings_count calculated_host_listings_count_entire_homes  \\\n",
       "0                              6                                           6   \n",
       "1                              6                                           6   \n",
       "2                              6                                           6   \n",
       "3                              6                                           6   \n",
       "4                              6                                           6   \n",
       "5                              2                                           2   \n",
       "6                              1                                           0   \n",
       "7                              2                                           2   \n",
       "8                              1                                           1   \n",
       "9                              1                                           1   \n",
       "\n",
       "  calculated_host_listings_count_private_rooms  \\\n",
       "0                                            0   \n",
       "1                                            0   \n",
       "2                                            0   \n",
       "3                                            0   \n",
       "4                                            0   \n",
       "5                                            0   \n",
       "6                                            1   \n",
       "7                                            0   \n",
       "8                                            0   \n",
       "9                                            0   \n",
       "\n",
       "  calculated_host_listings_count_shared_rooms reviews_per_month  \n",
       "0                                           0              0.41  \n",
       "1                                           0              0.72  \n",
       "2                                           0              0.97  \n",
       "3                                           0              0.33  \n",
       "4                                           0              0.23  \n",
       "5                                           0              4.65  \n",
       "6                                           0               NaN  \n",
       "7                                           0              0.94  \n",
       "8                                           0              1.45  \n",
       "9                                           0              0.03  \n",
       "\n",
       "[10 rows x 67 columns]"
      ]
     },
     "execution_count": 11,
     "metadata": {},
     "output_type": "execute_result"
    }
   ],
   "source": [
    "listings.head(10)"
   ]
  },
  {
   "cell_type": "markdown",
   "metadata": {},
   "source": [
    "We can see again some NaN values.Here and also in the describe function, there are some functions that have everywhere NaN values"
   ]
  },
  {
   "cell_type": "code",
   "execution_count": 12,
   "metadata": {},
   "outputs": [
    {
     "data": {
      "text/plain": [
       "9582"
      ]
     },
     "execution_count": 12,
     "metadata": {},
     "output_type": "execute_result"
    }
   ],
   "source": [
    "len(listings)"
   ]
  },
  {
   "cell_type": "markdown",
   "metadata": {},
   "source": [
    "We remind that we have 9585 rows"
   ]
  },
  {
   "cell_type": "markdown",
   "metadata": {},
   "source": [
    "## Handling missing values in the dataset"
   ]
  },
  {
   "cell_type": "markdown",
   "metadata": {},
   "source": [
    "We are checking how many rows have missing values in the dataset for each column"
   ]
  },
  {
   "cell_type": "code",
   "execution_count": 13,
   "metadata": {},
   "outputs": [
    {
     "data": {
      "text/plain": [
       "id                                                 0\n",
       "listing_url                                        0\n",
       "scrape_id                                          0\n",
       "last_scraped                                       0\n",
       "name                                               3\n",
       "                                                ... \n",
       "calculated_host_listings_count                     0\n",
       "calculated_host_listings_count_entire_homes        0\n",
       "calculated_host_listings_count_private_rooms       0\n",
       "calculated_host_listings_count_shared_rooms        0\n",
       "reviews_per_month                               1708\n",
       "Length: 67, dtype: int64"
      ]
     },
     "execution_count": 13,
     "metadata": {},
     "output_type": "execute_result"
    }
   ],
   "source": [
    "listings.isna().sum()"
   ]
  },
  {
   "cell_type": "code",
   "execution_count": 14,
   "metadata": {},
   "outputs": [
    {
     "data": {
      "text/plain": [
       "9582"
      ]
     },
     "execution_count": 14,
     "metadata": {},
     "output_type": "execute_result"
    }
   ],
   "source": [
    "listings.isnull().any(axis=1).sum()"
   ]
  },
  {
   "cell_type": "markdown",
   "metadata": {},
   "source": [
    "Every row has at least one NaN value. There are 3 columns that are missing a value in every row. Down below we confirm this"
   ]
  },
  {
   "cell_type": "code",
   "execution_count": 15,
   "metadata": {},
   "outputs": [
    {
     "data": {
      "text/html": [
       "<div>\n",
       "<style scoped>\n",
       "    .dataframe tbody tr th:only-of-type {\n",
       "        vertical-align: middle;\n",
       "    }\n",
       "\n",
       "    .dataframe tbody tr th {\n",
       "        vertical-align: top;\n",
       "    }\n",
       "\n",
       "    .dataframe thead th {\n",
       "        text-align: right;\n",
       "    }\n",
       "</style>\n",
       "<table border=\"1\" class=\"dataframe\">\n",
       "  <thead>\n",
       "    <tr style=\"text-align: right;\">\n",
       "      <th></th>\n",
       "      <th>neighbourhood_group_cleansed</th>\n",
       "      <th>bathrooms</th>\n",
       "      <th>calendar_updated</th>\n",
       "    </tr>\n",
       "  </thead>\n",
       "  <tbody>\n",
       "    <tr>\n",
       "      <th>0</th>\n",
       "      <td>NaN</td>\n",
       "      <td>NaN</td>\n",
       "      <td>NaN</td>\n",
       "    </tr>\n",
       "    <tr>\n",
       "      <th>1</th>\n",
       "      <td>NaN</td>\n",
       "      <td>NaN</td>\n",
       "      <td>NaN</td>\n",
       "    </tr>\n",
       "    <tr>\n",
       "      <th>2</th>\n",
       "      <td>NaN</td>\n",
       "      <td>NaN</td>\n",
       "      <td>NaN</td>\n",
       "    </tr>\n",
       "    <tr>\n",
       "      <th>3</th>\n",
       "      <td>NaN</td>\n",
       "      <td>NaN</td>\n",
       "      <td>NaN</td>\n",
       "    </tr>\n",
       "    <tr>\n",
       "      <th>4</th>\n",
       "      <td>NaN</td>\n",
       "      <td>NaN</td>\n",
       "      <td>NaN</td>\n",
       "    </tr>\n",
       "    <tr>\n",
       "      <th>...</th>\n",
       "      <td>...</td>\n",
       "      <td>...</td>\n",
       "      <td>...</td>\n",
       "    </tr>\n",
       "    <tr>\n",
       "      <th>9577</th>\n",
       "      <td>NaN</td>\n",
       "      <td>NaN</td>\n",
       "      <td>NaN</td>\n",
       "    </tr>\n",
       "    <tr>\n",
       "      <th>9578</th>\n",
       "      <td>NaN</td>\n",
       "      <td>NaN</td>\n",
       "      <td>NaN</td>\n",
       "    </tr>\n",
       "    <tr>\n",
       "      <th>9579</th>\n",
       "      <td>NaN</td>\n",
       "      <td>NaN</td>\n",
       "      <td>NaN</td>\n",
       "    </tr>\n",
       "    <tr>\n",
       "      <th>9580</th>\n",
       "      <td>NaN</td>\n",
       "      <td>NaN</td>\n",
       "      <td>NaN</td>\n",
       "    </tr>\n",
       "    <tr>\n",
       "      <th>9581</th>\n",
       "      <td>NaN</td>\n",
       "      <td>NaN</td>\n",
       "      <td>NaN</td>\n",
       "    </tr>\n",
       "  </tbody>\n",
       "</table>\n",
       "<p>9582 rows × 3 columns</p>\n",
       "</div>"
      ],
      "text/plain": [
       "      neighbourhood_group_cleansed  bathrooms  calendar_updated\n",
       "0                              NaN        NaN               NaN\n",
       "1                              NaN        NaN               NaN\n",
       "2                              NaN        NaN               NaN\n",
       "3                              NaN        NaN               NaN\n",
       "4                              NaN        NaN               NaN\n",
       "...                            ...        ...               ...\n",
       "9577                           NaN        NaN               NaN\n",
       "9578                           NaN        NaN               NaN\n",
       "9579                           NaN        NaN               NaN\n",
       "9580                           NaN        NaN               NaN\n",
       "9581                           NaN        NaN               NaN\n",
       "\n",
       "[9582 rows x 3 columns]"
      ]
     },
     "execution_count": 15,
     "metadata": {},
     "output_type": "execute_result"
    }
   ],
   "source": [
    "listings[['neighbourhood_group_cleansed', 'bathrooms', 'calendar_updated']]"
   ]
  },
  {
   "cell_type": "markdown",
   "metadata": {},
   "source": [
    "Theese 3 columns are going to be deleted. Before we had 67 columns, so after the drop of the columns we must have 64."
   ]
  },
  {
   "cell_type": "code",
   "execution_count": 16,
   "metadata": {},
   "outputs": [
    {
     "data": {
      "text/plain": [
       "67"
      ]
     },
     "execution_count": 16,
     "metadata": {},
     "output_type": "execute_result"
    }
   ],
   "source": [
    "len(listings.columns)"
   ]
  },
  {
   "cell_type": "code",
   "execution_count": 17,
   "metadata": {},
   "outputs": [],
   "source": [
    "listings.drop(['neighbourhood_group_cleansed', 'bathrooms', 'calendar_updated'], axis=1, inplace=True)"
   ]
  },
  {
   "cell_type": "code",
   "execution_count": 18,
   "metadata": {},
   "outputs": [
    {
     "data": {
      "text/plain": [
       "64"
      ]
     },
     "execution_count": 18,
     "metadata": {},
     "output_type": "execute_result"
    }
   ],
   "source": [
    "len(listings.columns)"
   ]
  },
  {
   "cell_type": "markdown",
   "metadata": {},
   "source": [
    "Drop all the columns that contain URLs"
   ]
  },
  {
   "cell_type": "code",
   "execution_count": 19,
   "metadata": {},
   "outputs": [],
   "source": [
    "listings.drop(['listing_url', 'picture_url', 'host_url', 'host_thumbnail_url', 'host_picture_url', 'id', 'scrape_id',\n",
    "               'host_id'], axis=1, inplace=True)"
   ]
  },
  {
   "cell_type": "markdown",
   "metadata": {},
   "source": [
    "Drop all columns with unecessary strings and sentences. Some of them could be handle with NLP techniques, but we are not going to use them here. We also delete columns 'last_scraped', 'calendar_last_scraped' because they have only one unique value"
   ]
  },
  {
   "cell_type": "code",
   "execution_count": 20,
   "metadata": {},
   "outputs": [],
   "source": [
    "listings.drop(['name', 'description', 'neighborhood_overview', 'host_name', 'host_location', 'host_about', 'license',\n",
    "               'neighbourhood', 'host_neighbourhood','host_verifications'], axis=1, inplace=True)\n",
    "listings.drop(['last_scraped', 'calendar_last_scraped'], axis=1, inplace=True)"
   ]
  },
  {
   "cell_type": "code",
   "execution_count": 21,
   "metadata": {},
   "outputs": [],
   "source": [
    "listings = listings.drop_duplicates() # there are 2 duplicates (rows) and we drop them"
   ]
  },
  {
   "cell_type": "markdown",
   "metadata": {},
   "source": [
    "The columns 'host_response_rate', 'host_acceptance_rate' have string values that are percentages. So we convert them to float, deleting '%' char and convert the numbers in range (0,1)"
   ]
  },
  {
   "cell_type": "code",
   "execution_count": 22,
   "metadata": {},
   "outputs": [
    {
     "name": "stdout",
     "output_type": "stream",
     "text": [
      "0     NaN\n",
      "1     NaN\n",
      "2     NaN\n",
      "3     NaN\n",
      "4     NaN\n",
      "5    100%\n",
      "6     NaN\n",
      "7     NaN\n",
      "8    100%\n",
      "9      0%\n",
      "Name: host_response_rate, dtype: object\n",
      "0    NaN\n",
      "1    NaN\n",
      "2    NaN\n",
      "3    NaN\n",
      "4    NaN\n",
      "5    1.0\n",
      "6    NaN\n",
      "7    NaN\n",
      "8    1.0\n",
      "9    0.0\n",
      "Name: host_response_rate, dtype: float64\n"
     ]
    }
   ],
   "source": [
    "print(listings.host_response_rate.head(10))\n",
    "listings['host_response_rate'] = listings[\"host_response_rate\"].str.rstrip('%').astype('float')/100.0\n",
    "print(listings.host_response_rate.head(10))"
   ]
  },
  {
   "cell_type": "code",
   "execution_count": 23,
   "metadata": {},
   "outputs": [
    {
     "name": "stdout",
     "output_type": "stream",
     "text": [
      "0     NaN\n",
      "1     NaN\n",
      "2     NaN\n",
      "3     NaN\n",
      "4     NaN\n",
      "5    100%\n",
      "6     NaN\n",
      "7     50%\n",
      "8      0%\n",
      "9     NaN\n",
      "Name: host_acceptance_rate, dtype: object\n",
      "0    NaN\n",
      "1    NaN\n",
      "2    NaN\n",
      "3    NaN\n",
      "4    NaN\n",
      "5    1.0\n",
      "6    NaN\n",
      "7    0.5\n",
      "8    0.0\n",
      "9    NaN\n",
      "Name: host_acceptance_rate, dtype: float64\n"
     ]
    }
   ],
   "source": [
    "print(listings.host_acceptance_rate.head(10))\n",
    "listings['host_acceptance_rate'] = listings[\"host_acceptance_rate\"].str.rstrip('%').astype('float')/100.0\n",
    "print(listings.host_acceptance_rate.head(10))"
   ]
  },
  {
   "cell_type": "code",
   "execution_count": 24,
   "metadata": {},
   "outputs": [
    {
     "data": {
      "text/plain": [
       "44"
      ]
     },
     "execution_count": 24,
     "metadata": {},
     "output_type": "execute_result"
    }
   ],
   "source": [
    "# Number of columns now:\n",
    "len(listings.columns)"
   ]
  },
  {
   "cell_type": "markdown",
   "metadata": {},
   "source": [
    "See how many columns contain NaN values and store to a list the amount of NaN features for each column"
   ]
  },
  {
   "cell_type": "code",
   "execution_count": 25,
   "metadata": {},
   "outputs": [
    {
     "name": "stdout",
     "output_type": "stream",
     "text": [
      "15\n"
     ]
    }
   ],
   "source": [
    "print(listings.isnull().any(axis=0).sum())\n",
    "nan_on_rows = listings.isnull().sum(axis=1).tolist()"
   ]
  },
  {
   "cell_type": "markdown",
   "metadata": {},
   "source": [
    "Count how many rows have more than 3 (and other amounts) features as NaN"
   ]
  },
  {
   "cell_type": "code",
   "execution_count": 26,
   "metadata": {},
   "outputs": [
    {
     "name": "stdout",
     "output_type": "stream",
     "text": [
      "rows with more than 3 NaN values :\n",
      "1075\n"
     ]
    }
   ],
   "source": [
    "df = listings.dropna(thresh=listings.shape[1]-3)\n",
    "print('rows with more than 3 NaN values :')\n",
    "print(len(listings) - len(df))"
   ]
  },
  {
   "cell_type": "code",
   "execution_count": 27,
   "metadata": {},
   "outputs": [],
   "source": [
    "# above 7 in 4 rows\n",
    "# above 8 in 3 rows\n",
    "# above 6 in 48 rows\n",
    "# above 5 in 634 rows"
   ]
  },
  {
   "cell_type": "markdown",
   "metadata": {},
   "source": [
    "Deleting some rows will decrease the mean absolute error, and after some experiments deleting rows with more than 3 NaN values was the better decision. So we are deleting theese rows."
   ]
  },
  {
   "cell_type": "code",
   "execution_count": 28,
   "metadata": {},
   "outputs": [
    {
     "name": "stdout",
     "output_type": "stream",
     "text": [
      "9\n"
     ]
    }
   ],
   "source": [
    "listings = listings.dropna(thresh=listings.shape[1]-3)\n",
    "print(df.isnull().any(axis=0).sum()) # how many columns contain NaN values now"
   ]
  },
  {
   "cell_type": "markdown",
   "metadata": {},
   "source": [
    "Fill NaN values. Columns with NaN or numeric values will only be affected. Theese columns are: 'bedrooms', 'beds', 'reviews_per_month' and also 'host_response_rate', 'host_acceptance_rate' . Fill with median of the column"
   ]
  },
  {
   "cell_type": "code",
   "execution_count": 29,
   "metadata": {},
   "outputs": [
    {
     "name": "stderr",
     "output_type": "stream",
     "text": [
      "<ipython-input-29-447a85b04361>:2: FutureWarning: Dropping of nuisance columns in DataFrame reductions (with 'numeric_only=None') is deprecated; in a future version this will raise TypeError.  Select only valid columns before calling the reduction.\n",
      "  fillna(listings.median())\n",
      "<ipython-input-29-447a85b04361>:4: FutureWarning: Dropping of nuisance columns in DataFrame reductions (with 'numeric_only=None') is deprecated; in a future version this will raise TypeError.  Select only valid columns before calling the reduction.\n",
      "  fillna(listings.median())\n"
     ]
    }
   ],
   "source": [
    "listings[['bedrooms', 'beds', 'reviews_per_month']] = listings[['bedrooms', 'beds', 'reviews_per_month']].\\\n",
    "    fillna(listings.median())\n",
    "listings[['host_response_rate', 'host_acceptance_rate']] = listings[['host_response_rate', 'host_acceptance_rate']].\\\n",
    "    fillna(listings.median())"
   ]
  },
  {
   "cell_type": "markdown",
   "metadata": {},
   "source": [
    "Our target feature is going to be 'price' and we have to convert it to numeric value. We delete the $ signs and we keep only the amount"
   ]
  },
  {
   "cell_type": "code",
   "execution_count": 30,
   "metadata": {},
   "outputs": [],
   "source": [
    "listings['price'] = [float(x[1:].replace(\",\", \"\")) if \",\" in x else float(x[1:]) for x in listings[\"price\"]]"
   ]
  },
  {
   "cell_type": "markdown",
   "metadata": {},
   "source": [
    "We are going to convert the values of some columns in categorical values using map"
   ]
  },
  {
   "cell_type": "code",
   "execution_count": 31,
   "metadata": {},
   "outputs": [],
   "source": [
    "host_response_time_map = {np.nan: 0, \"within an hour\": 0, \"within a few hours\": 1, \"within a day\": 2,\n",
    "                          \"a few days or more\": 3}\n",
    "host_is_superhost_map = {np.nan: 0, \"f\": 0, \"t\": 1}\n",
    "host_has_profile_pic_map = {\"f\": 0, np.nan: 1, \"t\": 1}\n",
    "host_identity_verified_map = {\"f\": 0, np.nan: 1, \"t\": 1}\n",
    "room_type_map = {\"Entire home/apt\": 0, \"Private room\": 1, \"Shared room\": 2, \"Hotel room\": 3}\n",
    "has_availability_map = {\"f\": 0, \"t\": 1}\n",
    "instant_bookable_map = {\"f\": 0, \"t\": 1}"
   ]
  },
  {
   "cell_type": "code",
   "execution_count": 32,
   "metadata": {},
   "outputs": [],
   "source": [
    "listings['host_response_time'] = listings['host_response_time'].map(host_response_time_map)\n",
    "listings['host_is_superhost'] = listings['host_is_superhost'].map(host_is_superhost_map)\n",
    "listings['host_has_profile_pic'] = listings['host_has_profile_pic'].map(host_has_profile_pic_map)\n",
    "listings['host_identity_verified'] = listings['host_identity_verified'].map(host_identity_verified_map)\n",
    "listings['room_type'] = listings['room_type'].map(room_type_map)\n",
    "listings['has_availability'] = listings['has_availability'].map(has_availability_map)\n",
    "listings['instant_bookable'] = listings['instant_bookable'].map(instant_bookable_map)"
   ]
  },
  {
   "cell_type": "markdown",
   "metadata": {},
   "source": [
    "The column 'bathrooms' is in string type, and contains number and text. So, we are going to keep only the number that indicates the amount of bathrooms and convert it to numeric"
   ]
  },
  {
   "cell_type": "code",
   "execution_count": 33,
   "metadata": {},
   "outputs": [
    {
     "name": "stdout",
     "output_type": "stream",
     "text": [
      "0    2 baths\n",
      "1     1 bath\n",
      "3     1 bath\n",
      "4     1 bath\n",
      "5     1 bath\n",
      "Name: bathrooms_text, dtype: object\n",
      "0    2.0\n",
      "1    1.0\n",
      "3    1.0\n",
      "4    1.0\n",
      "5    1.0\n",
      "Name: bathrooms, dtype: float64\n"
     ]
    }
   ],
   "source": [
    "print(listings['bathrooms_text'].head(5)) # before converting\n",
    "listings['bathrooms_text'] = listings['bathrooms_text'].str[0]\n",
    "listings['bathrooms'] = pd.to_numeric(listings['bathrooms_text'], errors='coerce')\n",
    "listings.drop(['bathrooms_text'], axis=1, inplace=True)\n",
    "print(listings['bathrooms'].head(5)) # after covverting"
   ]
  },
  {
   "cell_type": "markdown",
   "metadata": {},
   "source": [
    "Now some of theese columns have NaN values and we are going to fill them again with the median of the column"
   ]
  },
  {
   "cell_type": "code",
   "execution_count": 34,
   "metadata": {},
   "outputs": [
    {
     "name": "stderr",
     "output_type": "stream",
     "text": [
      "<ipython-input-34-c88b1243a678>:4: FutureWarning: Dropping of nuisance columns in DataFrame reductions (with 'numeric_only=None') is deprecated; in a future version this will raise TypeError.  Select only valid columns before calling the reduction.\n",
      "  fillna(listings.median())\n"
     ]
    }
   ],
   "source": [
    "listings[['host_listings_count', 'host_total_listings_count', 'bathrooms']] = listings[['host_listings_count',\n",
    "                                                                                        'host_total_listings_count',\n",
    "                                                                                        'bathrooms']].\\\n",
    "                                                                                    fillna(listings.median())"
   ]
  },
  {
   "cell_type": "code",
   "execution_count": 35,
   "metadata": {},
   "outputs": [
    {
     "data": {
      "text/plain": [
       "0.035038212815990594"
      ]
     },
     "execution_count": 35,
     "metadata": {},
     "output_type": "execute_result"
    }
   ],
   "source": [
    "298/8505"
   ]
  },
  {
   "cell_type": "markdown",
   "metadata": {},
   "source": [
    "We have to convert 'neighbourhood_cleansed' and 'property_type' columns in numeric type. So, for each of those columns we replace each unique value, with the total frequency of the value divided by the total amount of rows. For example, in 'neighbourhood_cleansed' column we have the value \"ΑΜΠΕΛΟΚΗΠΟΙ\" 298 times in 8505 rows. So where we see \"ΑΜΠΕΛΟΚΗΠΟΙ\" we replace it with 298/8505 = 0.035. Example of both  columns are seen before and after the mapping."
   ]
  },
  {
   "cell_type": "code",
   "execution_count": 36,
   "metadata": {},
   "outputs": [
    {
     "name": "stdout",
     "output_type": "stream",
     "text": [
      "0                          ΑΜΠΕΛΟΚΗΠΟΙ\n",
      "1                          ΑΜΠΕΛΟΚΗΠΟΙ\n",
      "3                          ΑΜΠΕΛΟΚΗΠΟΙ\n",
      "4                          ΑΜΠΕΛΟΚΗΠΟΙ\n",
      "5               ΕΜΠΟΡΙΚΟ ΤΡΙΓΩΝΟ-ΠΛΑΚΑ\n",
      "7                       ΑΓΙΟΣ ΝΙΚΟΛΑΟΣ\n",
      "8               ΕΜΠΟΡΙΚΟ ΤΡΙΓΩΝΟ-ΠΛΑΚΑ\n",
      "9                             ΠΑΓΚΡΑΤΙ\n",
      "10    ΑΓΙΟΣ ΚΩΝΣΤΑΝΤΙΝΟΣ-ΠΛΑΤΕΙΑ ΒΑΘΗΣ\n",
      "11                              ΣΤΑΔΙΟ\n",
      "Name: neighbourhood_cleansed, dtype: object\n",
      "0     Entire rental unit\n",
      "1     Entire rental unit\n",
      "3     Entire rental unit\n",
      "4     Entire rental unit\n",
      "5            Entire loft\n",
      "7     Entire rental unit\n",
      "8     Entire rental unit\n",
      "9     Entire rental unit\n",
      "10    Entire rental unit\n",
      "11    Entire rental unit\n",
      "Name: property_type, dtype: object\n"
     ]
    }
   ],
   "source": [
    "print(listings.neighbourhood_cleansed.head(10))\n",
    "print(listings.property_type.head(10))"
   ]
  },
  {
   "cell_type": "code",
   "execution_count": 37,
   "metadata": {},
   "outputs": [],
   "source": [
    "neighbourhood_cleansed_map = dict(round(listings[\"neighbourhood_cleansed\"].value_counts() / len(listings), 3))\n",
    "property_type_map = dict(round(listings[\"property_type\"].value_counts() / len(listings), 3))\n",
    "\n",
    "listings[\"neighbourhood_cleansed\"] = listings[\"neighbourhood_cleansed\"].map(neighbourhood_cleansed_map)\n",
    "listings[\"property_type\"] = listings[\"property_type\"].map(property_type_map)"
   ]
  },
  {
   "cell_type": "code",
   "execution_count": 38,
   "metadata": {},
   "outputs": [
    {
     "name": "stdout",
     "output_type": "stream",
     "text": [
      "0     0.035\n",
      "1     0.035\n",
      "3     0.035\n",
      "4     0.035\n",
      "5     0.191\n",
      "7     0.007\n",
      "8     0.191\n",
      "9     0.042\n",
      "10    0.062\n",
      "11    0.022\n",
      "Name: neighbourhood_cleansed, dtype: float64\n",
      "0     0.730\n",
      "1     0.730\n",
      "3     0.730\n",
      "4     0.730\n",
      "5     0.017\n",
      "7     0.730\n",
      "8     0.730\n",
      "9     0.730\n",
      "10    0.730\n",
      "11    0.730\n",
      "Name: property_type, dtype: float64\n"
     ]
    }
   ],
   "source": [
    "print(listings.neighbourhood_cleansed.head(10))\n",
    "print(listings.property_type.head(10))"
   ]
  },
  {
   "cell_type": "markdown",
   "metadata": {},
   "source": [
    "Now, we will fill the NaN values of the columns with date ([\"host_since\", \"first_review\", \"last_review\"]). We will do this, based on the 'neighbourhood_cleansed' column. The procedure goes as follows. For each date and for each neighborhood, we consider the subset of the dataframe \n",
    "where this specific neighborhood tag appears in \"neighbourhood_cleansed\" feature, we calculate the median value \n",
    "of the date in this subset and we fill the nan values of this date with the previous median value in the specific \n",
    "rows."
   ]
  },
  {
   "cell_type": "code",
   "execution_count": 39,
   "metadata": {},
   "outputs": [],
   "source": [
    "date_features_nan = [\"host_since\", \"first_review\", \"last_review\"]\n",
    "for date in date_features_nan:\n",
    "    for neighbourhood in listings[\"neighbourhood_cleansed\"].unique():\n",
    "        condition = listings[\"neighbourhood_cleansed\"] == neighbourhood\n",
    "        # convert the object type into datetime64[ns] and get the median\n",
    "        neighbourhood_date_series = listings[condition][date]\n",
    "        neighbourhood_date_series = pd.to_datetime(neighbourhood_date_series)\n",
    "        median = neighbourhood_date_series.quantile(0.5, interpolation=\"midpoint\")\n",
    "        # fill the specific nan values\n",
    "        listings[date] = listings[date].mask(condition, listings[date].fillna(value=str(median)[0:10]))"
   ]
  },
  {
   "cell_type": "markdown",
   "metadata": {},
   "source": [
    "Since seasonality plays an important role in the price, we create one feature for each one of the remaining date\n",
    "features which will consist of the seasons. The values 0, 1, 2, 3 stand for spring, summer, autumn and winter \n",
    "respectively. Furthermore, we create one more feature which will contain the years for each date feature. "
   ]
  },
  {
   "cell_type": "code",
   "execution_count": 40,
   "metadata": {},
   "outputs": [],
   "source": [
    "date_features = [\"host_since\", \"first_review\", \"last_review\"]\n",
    "for date in date_features:\n",
    "    years = []\n",
    "    seasons = []\n",
    "    for i in range(len(listings)):\n",
    "        years.append(int(listings[date].iloc[i][0:4]))\n",
    "        month = listings[date].iloc[i][5:7]\n",
    "        if month == \"03\" or month == \"04\" or month == \"05\":\n",
    "            seasons.append(0)\n",
    "        elif month == \"06\" or month == \"07\" or month == \"08\":\n",
    "            seasons.append(1)\n",
    "        elif month == \"09\" or month == \"10\" or month == \"11\":\n",
    "            seasons.append(2)\n",
    "        else:\n",
    "            seasons.append(3)\n",
    "    # construct the new two features\n",
    "    listings[date + \"_year\"] = years\n",
    "    listings[date + \"_season\"] = seasons\n",
    "    # drop the old one\n",
    "    listings.drop(date, axis=1, inplace=True)"
   ]
  },
  {
   "cell_type": "markdown",
   "metadata": {},
   "source": [
    "Now, we will handle the 'amenities' column. We will keep only the top 20 amenities we found on question 5.1."
   ]
  },
  {
   "cell_type": "code",
   "execution_count": 41,
   "metadata": {},
   "outputs": [],
   "source": [
    "top_20_amenities = {\"Essentials\": [], \"Wifi\": [], \"Hair dryer\": [], \"Long term stays allowed\": [],\n",
    "                        \"Air conditioning\": [], \"Hangers\": [], \"Kitchen\": [], \"Iron\": [],\n",
    "                        \"Heating\": [], \"Hot water\": [], \"Dishes and silverware\": [], \"TV\": [],\n",
    "                        \"Cooking basics\": [], \"Refrigerator\": [], \"Coffee maker\": [], \"Dedicated workspace\": [],\n",
    "                        \"Shampo\": [], \"Bed linens\": [], \"Elevator\": [], \"Fire extinguisher\": []}\n"
   ]
  },
  {
   "cell_type": "markdown",
   "metadata": {},
   "source": [
    "For each sample and for each amenity of the previous dictionary, if amenity exists in \"amenities\", then we give \n",
    "the value 1 (it exists). Otherwise, we give the value 0 (it does not exist). When the procedure ends, we drop \n",
    "the column \"amenities\". We are doing multi-hot encoding"
   ]
  },
  {
   "cell_type": "code",
   "execution_count": 42,
   "metadata": {},
   "outputs": [],
   "source": [
    "for idx in range(len(listings)):\n",
    "    amenities_idx = listings[\"amenities\"].iloc[idx].split(\", \")\n",
    "    for idy in range(len(amenities_idx)):\n",
    "        if \"[\" in amenities_idx:\n",
    "            amenities_idx[idy] = amenities_idx[idy][2:]\n",
    "        if \"]\" in amenities_idx:\n",
    "            amenities_idx[idy] = amenities_idx[idy][:-2]\n",
    "        amenities_idx[idy] = amenities_idx[idy][1:-1]\n",
    "        if idy == 0:\n",
    "            amenities_idx[idy] = amenities_idx[idy][1:]\n",
    "        if idy == len(amenities_idx) - 1:\n",
    "            amenities_idx[idy] = amenities_idx[idy][:-2]\n",
    "    for amenity in top_20_amenities.keys():\n",
    "        if amenity in amenities_idx:\n",
    "            top_20_amenities[amenity].append(1)\n",
    "        else:\n",
    "            top_20_amenities[amenity].append(0)\n",
    "for amenity in top_20_amenities.keys():\n",
    "    listings[\"amenity_\" + amenity.lower()] = top_20_amenities[amenity]\n",
    "listings.drop(\"amenities\", axis=1, inplace=True)"
   ]
  },
  {
   "cell_type": "markdown",
   "metadata": {},
   "source": [
    "Split to X and y and to train and test sets."
   ]
  },
  {
   "cell_type": "code",
   "execution_count": 43,
   "metadata": {},
   "outputs": [],
   "source": [
    "y = listings['price']\n",
    "X = listings.drop('price', axis=1)\n",
    "X_train, X_test, y_train, y_test = train_test_split(X, y, test_size=0.3, random_state=42)"
   ]
  },
  {
   "cell_type": "code",
   "execution_count": 44,
   "metadata": {},
   "outputs": [
    {
     "name": "stdout",
     "output_type": "stream",
     "text": [
      "(5953, 65) (2552, 65)\n"
     ]
    }
   ],
   "source": [
    "print(X_train.shape, X_test.shape)"
   ]
  },
  {
   "cell_type": "markdown",
   "metadata": {},
   "source": [
    "We try to delete rows with outliers. For each column, first it computes the Z-score of each value in the column, relative to the column mean and standard deviation. Then it takes the absolute of Z-score because the direction does not matter, only if it is below the threshold. .all(axis=1) ensures that for each row, all column satisfy the constrain. We put threshold 8 to delete extreme outliers."
   ]
  },
  {
   "cell_type": "code",
   "execution_count": 45,
   "metadata": {},
   "outputs": [
    {
     "name": "stdout",
     "output_type": "stream",
     "text": [
      "211\n"
     ]
    }
   ],
   "source": [
    "temp = len(X_train)\n",
    "non_outlier_mask = (np.abs(stats.zscore(X_train)) < 7).all(axis=1)\n",
    "X_train = X_train[non_outlier_mask]\n",
    "y_train = y_train[non_outlier_mask]\n",
    "print(temp - len(X_train)) # how many rows got deleted"
   ]
  },
  {
   "cell_type": "code",
   "execution_count": 46,
   "metadata": {},
   "outputs": [
    {
     "name": "stdout",
     "output_type": "stream",
     "text": [
      "our shape in the training set after preprocessing data (5742, 65)\n"
     ]
    }
   ],
   "source": [
    "print('our shape in the training set after preprocessing data', X_train.shape)"
   ]
  },
  {
   "cell_type": "code",
   "execution_count": 47,
   "metadata": {},
   "outputs": [
    {
     "name": "stdout",
     "output_type": "stream",
     "text": [
      "our shape in the test set after preprocessing data (2552, 65)\n"
     ]
    }
   ],
   "source": [
    "print('our shape in the test set after preprocessing data', X_test.shape)"
   ]
  },
  {
   "cell_type": "markdown",
   "metadata": {},
   "source": [
    "Now we are going to standardize the columns with StandardScaler()"
   ]
  },
  {
   "cell_type": "code",
   "execution_count": 48,
   "metadata": {},
   "outputs": [],
   "source": [
    "std_scaler = StandardScaler()\n",
    "\n",
    "X_train_scaled = std_scaler.fit_transform(X_train)\n",
    "X_test_scaled = std_scaler.transform(X_test)\n",
    "X_scaled = std_scaler.fit_transform(X)"
   ]
  }
 ],
 "metadata": {
  "kernelspec": {
   "display_name": "Python 3",
   "language": "python",
   "name": "python3"
  },
  "language_info": {
   "codemirror_mode": {
    "name": "ipython",
    "version": 3
   },
   "file_extension": ".py",
   "mimetype": "text/x-python",
   "name": "python",
   "nbconvert_exporter": "python",
   "pygments_lexer": "ipython3",
   "version": "3.8.3"
  }
 },
 "nbformat": 4,
 "nbformat_minor": 4
}
